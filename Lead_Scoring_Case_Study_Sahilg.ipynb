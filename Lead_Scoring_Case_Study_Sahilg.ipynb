{
 "cells": [
  {
   "cell_type": "markdown",
   "id": "affiliated-equity",
   "metadata": {},
   "source": [
    "# Lead Scoring Case Study"
   ]
  },
  {
   "cell_type": "markdown",
   "id": "naked-monkey",
   "metadata": {},
   "source": [
    "XEducation, an education company selling online courses, needs assistance in recognising and selecting promising leads that will most likely convert to paying customers. Our aim is to analyse and identify factors that help result in high customer conversion rate. This is done by assigning lead scores to each of the leads such that customers with high lead score indicate high chance of conversion "
   ]
  },
  {
   "cell_type": "markdown",
   "id": "wrong-sewing",
   "metadata": {},
   "source": [
    "Below Mentioned are the steps performed for the analysis:\n",
    "1. Importing the Dataset\n",
    "2. Inspecting the DataFrame\n",
    "3. Missing Value Treatment\n",
    "4. Data Preparation\n",
    "5. Univariate Analysis\n",
    "6. Outlier Treatment\n",
    "7. Creating Dummy Variables\n",
    "8. Train - Test Split\n",
    "9. Feature Scaling\n",
    "10. Model Building\n",
    "11. Feature Selection Using RFE\n",
    "12. Plotting the ROC Curve\n",
    "13. Finding Optimal Cut-Off Points\n",
    "14. Precision and Recall\n",
    "15. Making Predictions on the Test Set\n",
    "16. Assigning the Lead Score to the Data"
   ]
  },
  {
   "cell_type": "code",
   "execution_count": 1,
   "id": "traditional-refrigerator",
   "metadata": {},
   "outputs": [],
   "source": [
    "# Supressing the warnings\n",
    "import warnings\n",
    "warnings.filterwarnings('ignore')"
   ]
  },
  {
   "cell_type": "code",
   "execution_count": 2,
   "id": "stuffed-scheduling",
   "metadata": {},
   "outputs": [],
   "source": [
    "# Importing the required libraries\n",
    "import numpy as np\n",
    "import pandas as pd\n",
    "import matplotlib.pyplot as plt\n",
    "import matplotlib.style as style\n",
    "import seaborn as sns\n",
    "%matplotlib inline\n",
    "\n",
    "# Styling the plot\n",
    "style.use('ggplot')\n",
    "sns.set_style('whitegrid')\n",
    "\n",
    "import statsmodels.api as sm\n",
    "from statsmodels.stats.outliers_influence import variance_inflation_factor\n",
    "\n",
    "import sklearn\n",
    "from sklearn.model_selection import train_test_split\n",
    "from sklearn.preprocessing import StandardScaler\n",
    "from sklearn.linear_model import LogisticRegression\n",
    "from sklearn.feature_selection import RFE\n",
    "from sklearn.metrics import confusion_matrix\n",
    "from sklearn.metrics import precision_recall_curve\n",
    "from sklearn import metrics\n",
    "from sklearn.metrics import precision_score, recall_score"
   ]
  },
  {
   "cell_type": "code",
   "execution_count": 3,
   "id": "helpful-margin",
   "metadata": {},
   "outputs": [],
   "source": [
    "# Adjusting Output Views\n",
    "pd.set_option('display.max_rows', 500)\n",
    "pd.set_option('display.max_columns', 500)\n",
    "pd.set_option('display.width', 1000)\n",
    "pd.set_option('display.expand_frame_repr', False)"
   ]
  },
  {
   "cell_type": "markdown",
   "id": "special-humanitarian",
   "metadata": {},
   "source": [
    "### Step 1: Importing the Dataset"
   ]
  },
  {
   "cell_type": "code",
   "execution_count": 4,
   "id": "personal-mexico",
   "metadata": {},
   "outputs": [
    {
     "data": {
      "text/html": [
       "<div>\n",
       "<style scoped>\n",
       "    .dataframe tbody tr th:only-of-type {\n",
       "        vertical-align: middle;\n",
       "    }\n",
       "\n",
       "    .dataframe tbody tr th {\n",
       "        vertical-align: top;\n",
       "    }\n",
       "\n",
       "    .dataframe thead th {\n",
       "        text-align: right;\n",
       "    }\n",
       "</style>\n",
       "<table border=\"1\" class=\"dataframe\">\n",
       "  <thead>\n",
       "    <tr style=\"text-align: right;\">\n",
       "      <th></th>\n",
       "      <th>Prospect ID</th>\n",
       "      <th>Lead Number</th>\n",
       "      <th>Lead Origin</th>\n",
       "      <th>Lead Source</th>\n",
       "      <th>Do Not Email</th>\n",
       "      <th>Do Not Call</th>\n",
       "      <th>Converted</th>\n",
       "      <th>TotalVisits</th>\n",
       "      <th>Total Time Spent on Website</th>\n",
       "      <th>Page Views Per Visit</th>\n",
       "      <th>Last Activity</th>\n",
       "      <th>Country</th>\n",
       "      <th>Specialization</th>\n",
       "      <th>How did you hear about X Education</th>\n",
       "      <th>What is your current occupation</th>\n",
       "      <th>What matters most to you in choosing a course</th>\n",
       "      <th>Search</th>\n",
       "      <th>Magazine</th>\n",
       "      <th>Newspaper Article</th>\n",
       "      <th>X Education Forums</th>\n",
       "      <th>Newspaper</th>\n",
       "      <th>Digital Advertisement</th>\n",
       "      <th>Through Recommendations</th>\n",
       "      <th>Receive More Updates About Our Courses</th>\n",
       "      <th>Tags</th>\n",
       "      <th>Lead Quality</th>\n",
       "      <th>Update me on Supply Chain Content</th>\n",
       "      <th>Get updates on DM Content</th>\n",
       "      <th>Lead Profile</th>\n",
       "      <th>City</th>\n",
       "      <th>Asymmetrique Activity Index</th>\n",
       "      <th>Asymmetrique Profile Index</th>\n",
       "      <th>Asymmetrique Activity Score</th>\n",
       "      <th>Asymmetrique Profile Score</th>\n",
       "      <th>I agree to pay the amount through cheque</th>\n",
       "      <th>A free copy of Mastering The Interview</th>\n",
       "      <th>Last Notable Activity</th>\n",
       "    </tr>\n",
       "  </thead>\n",
       "  <tbody>\n",
       "    <tr>\n",
       "      <th>0</th>\n",
       "      <td>7927b2df-8bba-4d29-b9a2-b6e0beafe620</td>\n",
       "      <td>660737</td>\n",
       "      <td>API</td>\n",
       "      <td>Olark Chat</td>\n",
       "      <td>No</td>\n",
       "      <td>No</td>\n",
       "      <td>0</td>\n",
       "      <td>0.0</td>\n",
       "      <td>0</td>\n",
       "      <td>0.0</td>\n",
       "      <td>Page Visited on Website</td>\n",
       "      <td>NaN</td>\n",
       "      <td>Select</td>\n",
       "      <td>Select</td>\n",
       "      <td>Unemployed</td>\n",
       "      <td>Better Career Prospects</td>\n",
       "      <td>No</td>\n",
       "      <td>No</td>\n",
       "      <td>No</td>\n",
       "      <td>No</td>\n",
       "      <td>No</td>\n",
       "      <td>No</td>\n",
       "      <td>No</td>\n",
       "      <td>No</td>\n",
       "      <td>Interested in other courses</td>\n",
       "      <td>Low in Relevance</td>\n",
       "      <td>No</td>\n",
       "      <td>No</td>\n",
       "      <td>Select</td>\n",
       "      <td>Select</td>\n",
       "      <td>02.Medium</td>\n",
       "      <td>02.Medium</td>\n",
       "      <td>15.0</td>\n",
       "      <td>15.0</td>\n",
       "      <td>No</td>\n",
       "      <td>No</td>\n",
       "      <td>Modified</td>\n",
       "    </tr>\n",
       "    <tr>\n",
       "      <th>1</th>\n",
       "      <td>2a272436-5132-4136-86fa-dcc88c88f482</td>\n",
       "      <td>660728</td>\n",
       "      <td>API</td>\n",
       "      <td>Organic Search</td>\n",
       "      <td>No</td>\n",
       "      <td>No</td>\n",
       "      <td>0</td>\n",
       "      <td>5.0</td>\n",
       "      <td>674</td>\n",
       "      <td>2.5</td>\n",
       "      <td>Email Opened</td>\n",
       "      <td>India</td>\n",
       "      <td>Select</td>\n",
       "      <td>Select</td>\n",
       "      <td>Unemployed</td>\n",
       "      <td>Better Career Prospects</td>\n",
       "      <td>No</td>\n",
       "      <td>No</td>\n",
       "      <td>No</td>\n",
       "      <td>No</td>\n",
       "      <td>No</td>\n",
       "      <td>No</td>\n",
       "      <td>No</td>\n",
       "      <td>No</td>\n",
       "      <td>Ringing</td>\n",
       "      <td>NaN</td>\n",
       "      <td>No</td>\n",
       "      <td>No</td>\n",
       "      <td>Select</td>\n",
       "      <td>Select</td>\n",
       "      <td>02.Medium</td>\n",
       "      <td>02.Medium</td>\n",
       "      <td>15.0</td>\n",
       "      <td>15.0</td>\n",
       "      <td>No</td>\n",
       "      <td>No</td>\n",
       "      <td>Email Opened</td>\n",
       "    </tr>\n",
       "    <tr>\n",
       "      <th>2</th>\n",
       "      <td>8cc8c611-a219-4f35-ad23-fdfd2656bd8a</td>\n",
       "      <td>660727</td>\n",
       "      <td>Landing Page Submission</td>\n",
       "      <td>Direct Traffic</td>\n",
       "      <td>No</td>\n",
       "      <td>No</td>\n",
       "      <td>1</td>\n",
       "      <td>2.0</td>\n",
       "      <td>1532</td>\n",
       "      <td>2.0</td>\n",
       "      <td>Email Opened</td>\n",
       "      <td>India</td>\n",
       "      <td>Business Administration</td>\n",
       "      <td>Select</td>\n",
       "      <td>Student</td>\n",
       "      <td>Better Career Prospects</td>\n",
       "      <td>No</td>\n",
       "      <td>No</td>\n",
       "      <td>No</td>\n",
       "      <td>No</td>\n",
       "      <td>No</td>\n",
       "      <td>No</td>\n",
       "      <td>No</td>\n",
       "      <td>No</td>\n",
       "      <td>Will revert after reading the email</td>\n",
       "      <td>Might be</td>\n",
       "      <td>No</td>\n",
       "      <td>No</td>\n",
       "      <td>Potential Lead</td>\n",
       "      <td>Mumbai</td>\n",
       "      <td>02.Medium</td>\n",
       "      <td>01.High</td>\n",
       "      <td>14.0</td>\n",
       "      <td>20.0</td>\n",
       "      <td>No</td>\n",
       "      <td>Yes</td>\n",
       "      <td>Email Opened</td>\n",
       "    </tr>\n",
       "    <tr>\n",
       "      <th>3</th>\n",
       "      <td>0cc2df48-7cf4-4e39-9de9-19797f9b38cc</td>\n",
       "      <td>660719</td>\n",
       "      <td>Landing Page Submission</td>\n",
       "      <td>Direct Traffic</td>\n",
       "      <td>No</td>\n",
       "      <td>No</td>\n",
       "      <td>0</td>\n",
       "      <td>1.0</td>\n",
       "      <td>305</td>\n",
       "      <td>1.0</td>\n",
       "      <td>Unreachable</td>\n",
       "      <td>India</td>\n",
       "      <td>Media and Advertising</td>\n",
       "      <td>Word Of Mouth</td>\n",
       "      <td>Unemployed</td>\n",
       "      <td>Better Career Prospects</td>\n",
       "      <td>No</td>\n",
       "      <td>No</td>\n",
       "      <td>No</td>\n",
       "      <td>No</td>\n",
       "      <td>No</td>\n",
       "      <td>No</td>\n",
       "      <td>No</td>\n",
       "      <td>No</td>\n",
       "      <td>Ringing</td>\n",
       "      <td>Not Sure</td>\n",
       "      <td>No</td>\n",
       "      <td>No</td>\n",
       "      <td>Select</td>\n",
       "      <td>Mumbai</td>\n",
       "      <td>02.Medium</td>\n",
       "      <td>01.High</td>\n",
       "      <td>13.0</td>\n",
       "      <td>17.0</td>\n",
       "      <td>No</td>\n",
       "      <td>No</td>\n",
       "      <td>Modified</td>\n",
       "    </tr>\n",
       "    <tr>\n",
       "      <th>4</th>\n",
       "      <td>3256f628-e534-4826-9d63-4a8b88782852</td>\n",
       "      <td>660681</td>\n",
       "      <td>Landing Page Submission</td>\n",
       "      <td>Google</td>\n",
       "      <td>No</td>\n",
       "      <td>No</td>\n",
       "      <td>1</td>\n",
       "      <td>2.0</td>\n",
       "      <td>1428</td>\n",
       "      <td>1.0</td>\n",
       "      <td>Converted to Lead</td>\n",
       "      <td>India</td>\n",
       "      <td>Select</td>\n",
       "      <td>Other</td>\n",
       "      <td>Unemployed</td>\n",
       "      <td>Better Career Prospects</td>\n",
       "      <td>No</td>\n",
       "      <td>No</td>\n",
       "      <td>No</td>\n",
       "      <td>No</td>\n",
       "      <td>No</td>\n",
       "      <td>No</td>\n",
       "      <td>No</td>\n",
       "      <td>No</td>\n",
       "      <td>Will revert after reading the email</td>\n",
       "      <td>Might be</td>\n",
       "      <td>No</td>\n",
       "      <td>No</td>\n",
       "      <td>Select</td>\n",
       "      <td>Mumbai</td>\n",
       "      <td>02.Medium</td>\n",
       "      <td>01.High</td>\n",
       "      <td>15.0</td>\n",
       "      <td>18.0</td>\n",
       "      <td>No</td>\n",
       "      <td>No</td>\n",
       "      <td>Modified</td>\n",
       "    </tr>\n",
       "  </tbody>\n",
       "</table>\n",
       "</div>"
      ],
      "text/plain": [
       "                            Prospect ID  Lead Number              Lead Origin     Lead Source Do Not Email Do Not Call  Converted  TotalVisits  Total Time Spent on Website  Page Views Per Visit            Last Activity Country           Specialization How did you hear about X Education What is your current occupation What matters most to you in choosing a course Search Magazine Newspaper Article X Education Forums Newspaper Digital Advertisement Through Recommendations Receive More Updates About Our Courses                                 Tags      Lead Quality Update me on Supply Chain Content Get updates on DM Content    Lead Profile    City Asymmetrique Activity Index Asymmetrique Profile Index  Asymmetrique Activity Score  Asymmetrique Profile Score I agree to pay the amount through cheque A free copy of Mastering The Interview Last Notable Activity\n",
       "0  7927b2df-8bba-4d29-b9a2-b6e0beafe620       660737                      API      Olark Chat           No          No          0          0.0                            0                   0.0  Page Visited on Website     NaN                   Select                             Select                      Unemployed                       Better Career Prospects     No       No                No                 No        No                    No                      No                                     No          Interested in other courses  Low in Relevance                                No                        No          Select  Select                   02.Medium                  02.Medium                         15.0                        15.0                                       No                                     No              Modified\n",
       "1  2a272436-5132-4136-86fa-dcc88c88f482       660728                      API  Organic Search           No          No          0          5.0                          674                   2.5             Email Opened   India                   Select                             Select                      Unemployed                       Better Career Prospects     No       No                No                 No        No                    No                      No                                     No                              Ringing               NaN                                No                        No          Select  Select                   02.Medium                  02.Medium                         15.0                        15.0                                       No                                     No          Email Opened\n",
       "2  8cc8c611-a219-4f35-ad23-fdfd2656bd8a       660727  Landing Page Submission  Direct Traffic           No          No          1          2.0                         1532                   2.0             Email Opened   India  Business Administration                             Select                         Student                       Better Career Prospects     No       No                No                 No        No                    No                      No                                     No  Will revert after reading the email          Might be                                No                        No  Potential Lead  Mumbai                   02.Medium                    01.High                         14.0                        20.0                                       No                                    Yes          Email Opened\n",
       "3  0cc2df48-7cf4-4e39-9de9-19797f9b38cc       660719  Landing Page Submission  Direct Traffic           No          No          0          1.0                          305                   1.0              Unreachable   India    Media and Advertising                      Word Of Mouth                      Unemployed                       Better Career Prospects     No       No                No                 No        No                    No                      No                                     No                              Ringing          Not Sure                                No                        No          Select  Mumbai                   02.Medium                    01.High                         13.0                        17.0                                       No                                     No              Modified\n",
       "4  3256f628-e534-4826-9d63-4a8b88782852       660681  Landing Page Submission          Google           No          No          1          2.0                         1428                   1.0        Converted to Lead   India                   Select                              Other                      Unemployed                       Better Career Prospects     No       No                No                 No        No                    No                      No                                     No  Will revert after reading the email          Might be                                No                        No          Select  Mumbai                   02.Medium                    01.High                         15.0                        18.0                                       No                                     No              Modified"
      ]
     },
     "execution_count": 4,
     "metadata": {},
     "output_type": "execute_result"
    }
   ],
   "source": [
    "# Importing the dataset\n",
    "leads = pd.read_csv('Leads.csv')\n",
    "leads.head()"
   ]
  },
  {
   "cell_type": "markdown",
   "id": "copyrighted-champion",
   "metadata": {},
   "source": [
    "### Step 2: Inspecting the DataFrame"
   ]
  },
  {
   "cell_type": "code",
   "execution_count": 5,
   "id": "sustained-tomorrow",
   "metadata": {},
   "outputs": [
    {
     "data": {
      "text/plain": [
       "(9240, 37)"
      ]
     },
     "execution_count": 5,
     "metadata": {},
     "output_type": "execute_result"
    }
   ],
   "source": [
    "# Shape\n",
    "leads.shape"
   ]
  },
  {
   "cell_type": "code",
   "execution_count": 6,
   "id": "effective-ranch",
   "metadata": {},
   "outputs": [
    {
     "name": "stdout",
     "output_type": "stream",
     "text": [
      "<class 'pandas.core.frame.DataFrame'>\n",
      "RangeIndex: 9240 entries, 0 to 9239\n",
      "Data columns (total 37 columns):\n",
      " #   Column                                         Non-Null Count  Dtype  \n",
      "---  ------                                         --------------  -----  \n",
      " 0   Prospect ID                                    9240 non-null   object \n",
      " 1   Lead Number                                    9240 non-null   int64  \n",
      " 2   Lead Origin                                    9240 non-null   object \n",
      " 3   Lead Source                                    9204 non-null   object \n",
      " 4   Do Not Email                                   9240 non-null   object \n",
      " 5   Do Not Call                                    9240 non-null   object \n",
      " 6   Converted                                      9240 non-null   int64  \n",
      " 7   TotalVisits                                    9103 non-null   float64\n",
      " 8   Total Time Spent on Website                    9240 non-null   int64  \n",
      " 9   Page Views Per Visit                           9103 non-null   float64\n",
      " 10  Last Activity                                  9137 non-null   object \n",
      " 11  Country                                        6779 non-null   object \n",
      " 12  Specialization                                 7802 non-null   object \n",
      " 13  How did you hear about X Education             7033 non-null   object \n",
      " 14  What is your current occupation                6550 non-null   object \n",
      " 15  What matters most to you in choosing a course  6531 non-null   object \n",
      " 16  Search                                         9240 non-null   object \n",
      " 17  Magazine                                       9240 non-null   object \n",
      " 18  Newspaper Article                              9240 non-null   object \n",
      " 19  X Education Forums                             9240 non-null   object \n",
      " 20  Newspaper                                      9240 non-null   object \n",
      " 21  Digital Advertisement                          9240 non-null   object \n",
      " 22  Through Recommendations                        9240 non-null   object \n",
      " 23  Receive More Updates About Our Courses         9240 non-null   object \n",
      " 24  Tags                                           5887 non-null   object \n",
      " 25  Lead Quality                                   4473 non-null   object \n",
      " 26  Update me on Supply Chain Content              9240 non-null   object \n",
      " 27  Get updates on DM Content                      9240 non-null   object \n",
      " 28  Lead Profile                                   6531 non-null   object \n",
      " 29  City                                           7820 non-null   object \n",
      " 30  Asymmetrique Activity Index                    5022 non-null   object \n",
      " 31  Asymmetrique Profile Index                     5022 non-null   object \n",
      " 32  Asymmetrique Activity Score                    5022 non-null   float64\n",
      " 33  Asymmetrique Profile Score                     5022 non-null   float64\n",
      " 34  I agree to pay the amount through cheque       9240 non-null   object \n",
      " 35  A free copy of Mastering The Interview         9240 non-null   object \n",
      " 36  Last Notable Activity                          9240 non-null   object \n",
      "dtypes: float64(4), int64(3), object(30)\n",
      "memory usage: 2.6+ MB\n"
     ]
    }
   ],
   "source": [
    "# Null Value and Data Type Information\n",
    "leads.info()"
   ]
  },
  {
   "cell_type": "code",
   "execution_count": 7,
   "id": "improved-decision",
   "metadata": {},
   "outputs": [
    {
     "data": {
      "text/plain": [
       "True"
      ]
     },
     "execution_count": 7,
     "metadata": {},
     "output_type": "execute_result"
    }
   ],
   "source": [
    "# Checking Duplicate Values in 'Prospect ID'\n",
    "sum(leads.duplicated(subset = 'Prospect ID')) == 0"
   ]
  },
  {
   "cell_type": "code",
   "execution_count": 8,
   "id": "intimate-found",
   "metadata": {},
   "outputs": [
    {
     "data": {
      "text/plain": [
       "True"
      ]
     },
     "execution_count": 8,
     "metadata": {},
     "output_type": "execute_result"
    }
   ],
   "source": [
    "# Duplicate Values in 'Lead Number'\n",
    "sum(leads.duplicated(subset = 'Lead Number')) == 0"
   ]
  },
  {
   "cell_type": "markdown",
   "id": "seasonal-wiring",
   "metadata": {},
   "source": [
    "`Inference:` There are no duplicates in both 'Prospect ID' and 'Lead Number'"
   ]
  },
  {
   "cell_type": "code",
   "execution_count": 9,
   "id": "designed-supervision",
   "metadata": {},
   "outputs": [],
   "source": [
    "# Using this for Lead Score at the end of the notebook\n",
    "Lead_Number = leads['Lead Number']"
   ]
  },
  {
   "cell_type": "code",
   "execution_count": 10,
   "id": "infrared-writer",
   "metadata": {},
   "outputs": [],
   "source": [
    "# Droppping these columns as we don't fit these in the model\n",
    "cols_to_drop = ['Prospect ID', 'Lead Number']"
   ]
  },
  {
   "cell_type": "markdown",
   "id": "closing-interpretation",
   "metadata": {},
   "source": [
    "### Step 3: Missing Value Treatment"
   ]
  },
  {
   "cell_type": "code",
   "execution_count": 11,
   "id": "outer-performance",
   "metadata": {},
   "outputs": [],
   "source": [
    "# Replacing the 'Select' with NA values\n",
    "leads = leads.replace('Select', np.nan)"
   ]
  },
  {
   "cell_type": "code",
   "execution_count": 12,
   "id": "commercial-senate",
   "metadata": {
    "scrolled": false
   },
   "outputs": [
    {
     "data": {
      "text/plain": [
       "Prospect ID                                       0.00\n",
       "Lead Number                                       0.00\n",
       "Lead Origin                                       0.00\n",
       "Lead Source                                       0.39\n",
       "Do Not Email                                      0.00\n",
       "Do Not Call                                       0.00\n",
       "Converted                                         0.00\n",
       "TotalVisits                                       1.48\n",
       "Total Time Spent on Website                       0.00\n",
       "Page Views Per Visit                              1.48\n",
       "Last Activity                                     1.11\n",
       "Country                                          26.63\n",
       "Specialization                                   36.58\n",
       "How did you hear about X Education               78.46\n",
       "What is your current occupation                  29.11\n",
       "What matters most to you in choosing a course    29.32\n",
       "Search                                            0.00\n",
       "Magazine                                          0.00\n",
       "Newspaper Article                                 0.00\n",
       "X Education Forums                                0.00\n",
       "Newspaper                                         0.00\n",
       "Digital Advertisement                             0.00\n",
       "Through Recommendations                           0.00\n",
       "Receive More Updates About Our Courses            0.00\n",
       "Tags                                             36.29\n",
       "Lead Quality                                     51.59\n",
       "Update me on Supply Chain Content                 0.00\n",
       "Get updates on DM Content                         0.00\n",
       "Lead Profile                                     74.19\n",
       "City                                             39.71\n",
       "Asymmetrique Activity Index                      45.65\n",
       "Asymmetrique Profile Index                       45.65\n",
       "Asymmetrique Activity Score                      45.65\n",
       "Asymmetrique Profile Score                       45.65\n",
       "I agree to pay the amount through cheque          0.00\n",
       "A free copy of Mastering The Interview            0.00\n",
       "Last Notable Activity                             0.00\n",
       "dtype: float64"
      ]
     },
     "execution_count": 12,
     "metadata": {},
     "output_type": "execute_result"
    }
   ],
   "source": [
    "# Missing Values Percentages\n",
    "round((leads.isnull().sum()/len(leads)*100), 2)"
   ]
  },
  {
   "cell_type": "code",
   "execution_count": 13,
   "id": "grateful-tunnel",
   "metadata": {},
   "outputs": [
    {
     "data": {
      "image/png": "[encoded data removed]",
      "text/plain": [
       "<Figure size 1800x504 with 1 Axes>"
      ]
     },
     "metadata": {},
     "output_type": "display_data"
    }
   ],
   "source": [
    "# Let us plot a bar graph to look at the proportion of null values with a benchmark of 40%\n",
    "plt.figure(figsize = [25,7])\n",
    "plt.title(\"Proportion of Null Values\",fontsize=20)\n",
    "plt.xlabel(\"Column Names\", fontsize=15)\n",
    "plt.ylabel(\"Percentage of null values\", fontsize= 15)\n",
    "plt.xticks(rotation=90)\n",
    "ax = sns.barplot(leads.columns,round((leads.isnull().sum()/leads.shape[0])*100,2), color = 'blue')\n",
    "ax.axhline(40, ls='--',color='red')\n",
    "plt.show()"
   ]
  },
  {
   "cell_type": "code",
   "execution_count": 14,
   "id": "arranged-workplace",
   "metadata": {},
   "outputs": [],
   "source": [
    "# Removing the missing values with more than 40%\n",
    "cols = leads.columns\n",
    "\n",
    "for i in cols:\n",
    "    if((100*leads[i].isnull().sum()/len(leads.index)) >= 40):\n",
    "        leads.drop(i, axis = 1, inplace = True)"
   ]
  },
  {
   "cell_type": "code",
   "execution_count": 15,
   "id": "surrounded-charter",
   "metadata": {},
   "outputs": [
    {
     "data": {
      "text/plain": [
       "Prospect ID                                       0.00\n",
       "Lead Number                                       0.00\n",
       "Lead Origin                                       0.00\n",
       "Lead Source                                       0.39\n",
       "Do Not Email                                      0.00\n",
       "Do Not Call                                       0.00\n",
       "Converted                                         0.00\n",
       "TotalVisits                                       1.48\n",
       "Total Time Spent on Website                       0.00\n",
       "Page Views Per Visit                              1.48\n",
       "Last Activity                                     1.11\n",
       "Country                                          26.63\n",
       "Specialization                                   36.58\n",
       "What is your current occupation                  29.11\n",
       "What matters most to you in choosing a course    29.32\n",
       "Search                                            0.00\n",
       "Magazine                                          0.00\n",
       "Newspaper Article                                 0.00\n",
       "X Education Forums                                0.00\n",
       "Newspaper                                         0.00\n",
       "Digital Advertisement                             0.00\n",
       "Through Recommendations                           0.00\n",
       "Receive More Updates About Our Courses            0.00\n",
       "Tags                                             36.29\n",
       "Update me on Supply Chain Content                 0.00\n",
       "Get updates on DM Content                         0.00\n",
       "City                                             39.71\n",
       "I agree to pay the amount through cheque          0.00\n",
       "A free copy of Mastering The Interview            0.00\n",
       "Last Notable Activity                             0.00\n",
       "dtype: float64"
      ]
     },
     "execution_count": 15,
     "metadata": {},
     "output_type": "execute_result"
    }
   ],
   "source": [
    "# Missing Value Percentages for the remaining variables\n",
    "round((leads.isnull().sum()/len(leads)*100), 2)"
   ]
  },
  {
   "cell_type": "markdown",
   "id": "confidential-custody",
   "metadata": {},
   "source": [
    "### Step 4: Data Preparation"
   ]
  },
  {
   "cell_type": "markdown",
   "id": "genetic-conversation",
   "metadata": {},
   "source": [
    "#### Analyzing the Variables one-by-one"
   ]
  },
  {
   "cell_type": "code",
   "execution_count": 16,
   "id": "impaired-productivity",
   "metadata": {},
   "outputs": [
    {
     "data": {
      "text/plain": [
       "NaN                            3669\n",
       "Mumbai                         3222\n",
       "Thane & Outskirts               752\n",
       "Other Cities                    686\n",
       "Other Cities of Maharashtra     457\n",
       "Other Metro Cities              380\n",
       "Tier II Cities                   74\n",
       "Name: City, dtype: int64"
      ]
     },
     "execution_count": 16,
     "metadata": {},
     "output_type": "execute_result"
    }
   ],
   "source": [
    "# City\n",
    "leads['City'].value_counts(dropna = False)"
   ]
  },
  {
   "cell_type": "code",
   "execution_count": 17,
   "id": "fabulous-equation",
   "metadata": {},
   "outputs": [],
   "source": [
    "# Dropping the City column as most entries are Mumbai or not known. So, it won't help much in our analysis\n",
    "cols_to_drop.append('City')"
   ]
  },
  {
   "cell_type": "code",
   "execution_count": 18,
   "id": "separate-dining",
   "metadata": {},
   "outputs": [
    {
     "data": {
      "text/plain": [
       "NaN                                  3380\n",
       "Finance Management                    976\n",
       "Human Resource Management             848\n",
       "Marketing Management                  838\n",
       "Operations Management                 503\n",
       "Business Administration               403\n",
       "IT Projects Management                366\n",
       "Supply Chain Management               349\n",
       "Banking, Investment And Insurance     338\n",
       "Travel and Tourism                    203\n",
       "Media and Advertising                 203\n",
       "International Business                178\n",
       "Healthcare Management                 159\n",
       "Hospitality Management                114\n",
       "E-COMMERCE                            112\n",
       "Retail Management                     100\n",
       "Rural and Agribusiness                 73\n",
       "E-Business                             57\n",
       "Services Excellence                    40\n",
       "Name: Specialization, dtype: int64"
      ]
     },
     "execution_count": 18,
     "metadata": {},
     "output_type": "execute_result"
    }
   ],
   "source": [
    "# Specialization\n",
    "leads['Specialization'].value_counts(dropna= False)"
   ]
  },
  {
   "cell_type": "code",
   "execution_count": 19,
   "id": "eastern-stable",
   "metadata": {},
   "outputs": [],
   "source": [
    "leads['Specialization'] = leads['Specialization'].replace(np.nan, 'Not Specified')"
   ]
  },
  {
   "cell_type": "code",
   "execution_count": 20,
   "id": "norwegian-fraud",
   "metadata": {},
   "outputs": [],
   "source": [
    "# Grouping values with low count in order to remove bias\n",
    "# Management Specialization\n",
    "leads['Specialization'] = leads['Specialization'].replace(['Finance Management', 'Human Resource Management',\n",
    "                                                          'Marketing Management', 'Operations Management',\n",
    "                                                          'IT Projects Management', 'Supply Chain Management',\n",
    "                                                          'Healthcare Management', 'Hospitality Management',\n",
    "                                                          'Retail Management'], 'Management Specializations')\n",
    "# Business Specialization\n",
    "leads['Specialization'] = leads['Specialization'].replace(['International Business', 'Rural and Agribusiness',\n",
    "                                                          'E-Business'], 'Business Specializations')"
   ]
  },
  {
   "cell_type": "code",
   "execution_count": 21,
   "id": "portuguese-imperial",
   "metadata": {},
   "outputs": [
    {
     "data": {
      "text/plain": [
       "NaN                                                  3353\n",
       "Will revert after reading the email                  2072\n",
       "Ringing                                              1203\n",
       "Interested in other courses                           513\n",
       "Already a student                                     465\n",
       "Closed by Horizzon                                    358\n",
       "switched off                                          240\n",
       "Busy                                                  186\n",
       "Lost to EINS                                          175\n",
       "Not doing further education                           145\n",
       "Interested  in full time MBA                          117\n",
       "Graduation in progress                                111\n",
       "invalid number                                         83\n",
       "Diploma holder (Not Eligible)                          63\n",
       "wrong number given                                     47\n",
       "opp hangup                                             33\n",
       "number not provided                                    27\n",
       "in touch with EINS                                     12\n",
       "Lost to Others                                          7\n",
       "Still Thinking                                          6\n",
       "Want to take admission but has financial problems       6\n",
       "In confusion whether part time or DLP                   5\n",
       "Interested in Next batch                                5\n",
       "Lateral student                                         3\n",
       "Shall take in the next coming month                     2\n",
       "University not recognized                               2\n",
       "Recognition issue (DEC approval)                        1\n",
       "Name: Tags, dtype: int64"
      ]
     },
     "execution_count": 21,
     "metadata": {},
     "output_type": "execute_result"
    }
   ],
   "source": [
    "# 'Tags'\n",
    "leads['Tags'].value_counts(dropna = False)"
   ]
  },
  {
   "cell_type": "code",
   "execution_count": 22,
   "id": "electrical-composition",
   "metadata": {},
   "outputs": [],
   "source": [
    "# Grouping values with low count in order to remove bias\n",
    "leads['Tags'] = leads['Tags'].replace(np.nan, 'Not Specified')\n",
    "leads['Tags'] = leads['Tags'].replace(['Recognition issue (DEC approval)', 'Shall take in the next coming month', \n",
    "                                      'University not recognized', 'Lateral student',\n",
    "                                       'In confusion whether part time or DLP', 'Interested in Next batch, Still Thinking',\n",
    "                                       'Want to take admission but has financial problems', 'Lost to Others',\n",
    "                                      'in touch with EINS', 'number not provided', 'opp hangup', 'wrong number given',\n",
    "                                      'Diploma holder (Not Eligible)', 'invalid number', 'Graduation in progress',\n",
    "                                      'Interested  in full time MBA', 'Not doing further education', 'Lost to EINS', 'Busy',\n",
    "                                      'switched off'], 'Other Tags')"
   ]
  },
  {
   "cell_type": "code",
   "execution_count": 23,
   "id": "detailed-lending",
   "metadata": {},
   "outputs": [
    {
     "data": {
      "text/plain": [
       "Better Career Prospects      6528\n",
       "NaN                          2709\n",
       "Flexibility & Convenience       2\n",
       "Other                           1\n",
       "Name: What matters most to you in choosing a course, dtype: int64"
      ]
     },
     "execution_count": 23,
     "metadata": {},
     "output_type": "execute_result"
    }
   ],
   "source": [
    "# 'What matters most to you in choosing a course'\n",
    "leads['What matters most to you in choosing a course'].value_counts(dropna = False)"
   ]
  },
  {
   "cell_type": "code",
   "execution_count": 24,
   "id": "immune-technique",
   "metadata": {},
   "outputs": [],
   "source": [
    "# Dropping 'What matters most to you in choosing a course' due to the presence of high Null Values and majority of the \n",
    "# them being Better Career Prospects\n",
    "cols_to_drop.append('What matters most to you in choosing a course')"
   ]
  },
  {
   "cell_type": "code",
   "execution_count": 25,
   "id": "textile-burning",
   "metadata": {},
   "outputs": [
    {
     "data": {
      "text/plain": [
       "Unemployed              5600\n",
       "NaN                     2690\n",
       "Working Professional     706\n",
       "Student                  210\n",
       "Other                     16\n",
       "Housewife                 10\n",
       "Businessman                8\n",
       "Name: What is your current occupation, dtype: int64"
      ]
     },
     "execution_count": 25,
     "metadata": {},
     "output_type": "execute_result"
    }
   ],
   "source": [
    "# 'What is your current occupation'\n",
    "leads['What is your current occupation'].value_counts(dropna = False)"
   ]
  },
  {
   "cell_type": "code",
   "execution_count": 26,
   "id": "featured-storm",
   "metadata": {},
   "outputs": [],
   "source": [
    "# Grouping values with low count in order to remove bias\n",
    "leads['What is your current occupation'] = leads['What is your current occupation'].replace(np.nan, 'Not Specified')\n",
    "leads['What is your current occupation'] = leads['What is your current occupation'].replace(['Housewife', 'Businessman'],\n",
    "                                                                                           'Other')"
   ]
  },
  {
   "cell_type": "code",
   "execution_count": 27,
   "id": "mediterranean-photograph",
   "metadata": {},
   "outputs": [
    {
     "data": {
      "text/plain": [
       "India                   6492\n",
       "NaN                     2461\n",
       "United States             69\n",
       "United Arab Emirates      53\n",
       "Singapore                 24\n",
       "Saudi Arabia              21\n",
       "United Kingdom            15\n",
       "Australia                 13\n",
       "Qatar                     10\n",
       "Bahrain                    7\n",
       "Hong Kong                  7\n",
       "Oman                       6\n",
       "France                     6\n",
       "unknown                    5\n",
       "Kuwait                     4\n",
       "South Africa               4\n",
       "Canada                     4\n",
       "Nigeria                    4\n",
       "Germany                    4\n",
       "Sweden                     3\n",
       "Philippines                2\n",
       "Uganda                     2\n",
       "Italy                      2\n",
       "Bangladesh                 2\n",
       "Netherlands                2\n",
       "Asia/Pacific Region        2\n",
       "China                      2\n",
       "Belgium                    2\n",
       "Ghana                      2\n",
       "Kenya                      1\n",
       "Sri Lanka                  1\n",
       "Tanzania                   1\n",
       "Malaysia                   1\n",
       "Liberia                    1\n",
       "Switzerland                1\n",
       "Denmark                    1\n",
       "Russia                     1\n",
       "Vietnam                    1\n",
       "Indonesia                  1\n",
       "Name: Country, dtype: int64"
      ]
     },
     "execution_count": 27,
     "metadata": {},
     "output_type": "execute_result"
    }
   ],
   "source": [
    "# 'Country'\n",
    "leads['Country'].value_counts(dropna = False)"
   ]
  },
  {
   "cell_type": "code",
   "execution_count": 28,
   "id": "impossible-illness",
   "metadata": {},
   "outputs": [],
   "source": [
    "# Dropping Country column since, more than 90% values are India or NA only\n",
    "cols_to_drop.append('Country')"
   ]
  },
  {
   "cell_type": "code",
   "execution_count": 29,
   "id": "identical-mississippi",
   "metadata": {},
   "outputs": [
    {
     "data": {
      "text/plain": [
       "Google               2868\n",
       "Direct Traffic       2543\n",
       "Olark Chat           1755\n",
       "Organic Search       1154\n",
       "Reference             534\n",
       "Welingak Website      142\n",
       "Referral Sites        125\n",
       "Facebook               55\n",
       "NaN                    36\n",
       "bing                    6\n",
       "google                  5\n",
       "Click2call              4\n",
       "Press_Release           2\n",
       "Social Media            2\n",
       "Live Chat               2\n",
       "youtubechannel          1\n",
       "testone                 1\n",
       "Pay per Click Ads       1\n",
       "welearnblog_Home        1\n",
       "WeLearn                 1\n",
       "blog                    1\n",
       "NC_EDM                  1\n",
       "Name: Lead Source, dtype: int64"
      ]
     },
     "execution_count": 29,
     "metadata": {},
     "output_type": "execute_result"
    }
   ],
   "source": [
    "# Lead Source\n",
    "leads['Lead Source'].value_counts(dropna= False)"
   ]
  },
  {
   "cell_type": "code",
   "execution_count": 30,
   "id": "foreign-technology",
   "metadata": {},
   "outputs": [],
   "source": [
    "# Replacing the NULL Values in 'Lead Source' with Google and grouping values with low count in order to remove bias\n",
    "leads['Lead Source'] = leads['Lead Source'].replace([np.nan, 'google'], 'Google')\n",
    "leads['Lead Source'] = leads['Lead Source'].replace(['Referral Sites', 'Facebook', 'bing', 'google', 'Click2call',\n",
    "                                                     'Live Chat', 'Social Media', 'Press_Release', 'testone',\n",
    "                                                     'Pay per Click Ads', 'WeLearn', 'blog', 'welearnblog_Home',\n",
    "                                                     'NC_EDM', 'youtubechannel'], 'Others')"
   ]
  },
  {
   "cell_type": "code",
   "execution_count": 31,
   "id": "transsexual-outside",
   "metadata": {},
   "outputs": [
    {
     "data": {
      "text/plain": [
       "Email Opened                    3437\n",
       "SMS Sent                        2745\n",
       "Olark Chat Conversation          973\n",
       "Page Visited on Website          640\n",
       "Converted to Lead                428\n",
       "Email Bounced                    326\n",
       "Email Link Clicked               267\n",
       "Form Submitted on Website        116\n",
       "NaN                              103\n",
       "Unreachable                       93\n",
       "Unsubscribed                      61\n",
       "Had a Phone Conversation          30\n",
       "Approached upfront                 9\n",
       "View in browser link Clicked       6\n",
       "Email Received                     2\n",
       "Email Marked Spam                  2\n",
       "Visited Booth in Tradeshow         1\n",
       "Resubscribed to emails             1\n",
       "Name: Last Activity, dtype: int64"
      ]
     },
     "execution_count": 31,
     "metadata": {},
     "output_type": "execute_result"
    }
   ],
   "source": [
    "# Last Activity\n",
    "leads['Last Activity'].value_counts(dropna = False)"
   ]
  },
  {
   "cell_type": "code",
   "execution_count": 32,
   "id": "cooperative-silly",
   "metadata": {},
   "outputs": [],
   "source": [
    "# Replacing the NA values and other less occuring entries as Others\n",
    "leads['Last Activity'] = leads['Last Activity'].replace(np.nan, 'Email Opened')\n",
    "leads['Last Activity'] = leads['Last Activity'].replace(['Visited Booth in Tradeshow', 'Resubscribed to emails',\n",
    "                                                        'Email Marked Spam', 'Email Received',\n",
    "                                                         'View in browser link Clicked', 'Approached upfront',\n",
    "                                                         'Had a Phone Conversation', 'Unsubscribed', 'Unreachable'],\n",
    "                                                        'Others')"
   ]
  },
  {
   "cell_type": "code",
   "execution_count": 33,
   "id": "legitimate-netherlands",
   "metadata": {},
   "outputs": [
    {
     "data": {
      "text/plain": [
       "count    9103.000000\n",
       "mean        3.445238\n",
       "std         4.854853\n",
       "min         0.000000\n",
       "25%         1.000000\n",
       "50%         3.000000\n",
       "75%         5.000000\n",
       "max       251.000000\n",
       "Name: TotalVisits, dtype: float64"
      ]
     },
     "execution_count": 33,
     "metadata": {},
     "output_type": "execute_result"
    }
   ],
   "source": [
    "# 'TotalVisits'\n",
    "leads['TotalVisits'].describe()"
   ]
  },
  {
   "cell_type": "code",
   "execution_count": 34,
   "id": "built-religious",
   "metadata": {},
   "outputs": [],
   "source": [
    "# Replacing Null Values in 'TotalVisits' with median\n",
    "leads['TotalVisits'] = leads['TotalVisits'].replace(np.nan, leads['TotalVisits'].median())"
   ]
  },
  {
   "cell_type": "code",
   "execution_count": 35,
   "id": "growing-sewing",
   "metadata": {
    "scrolled": true
   },
   "outputs": [
    {
     "data": {
      "text/plain": [
       "count    9103.000000\n",
       "mean        2.362820\n",
       "std         2.161418\n",
       "min         0.000000\n",
       "25%         1.000000\n",
       "50%         2.000000\n",
       "75%         3.000000\n",
       "max        55.000000\n",
       "Name: Page Views Per Visit, dtype: float64"
      ]
     },
     "execution_count": 35,
     "metadata": {},
     "output_type": "execute_result"
    }
   ],
   "source": [
    "# 'Page Views Per Visit'\n",
    "leads['Page Views Per Visit'].describe()"
   ]
  },
  {
   "cell_type": "code",
   "execution_count": 36,
   "id": "extraordinary-cooler",
   "metadata": {},
   "outputs": [],
   "source": [
    "# Replacing the Null Values with 0.0, since, this is the most common entry\n",
    "leads['Page Views Per Visit'] = leads['Page Views Per Visit'].replace(np.nan, leads['Page Views Per Visit'].median())"
   ]
  },
  {
   "cell_type": "code",
   "execution_count": 37,
   "id": "compact-instrument",
   "metadata": {},
   "outputs": [
    {
     "data": {
      "text/plain": [
       "No     9238\n",
       "Yes       2\n",
       "Name: Do Not Call, dtype: int64"
      ]
     },
     "execution_count": 37,
     "metadata": {},
     "output_type": "execute_result"
    }
   ],
   "source": [
    "leads['Do Not Call'].value_counts()"
   ]
  },
  {
   "cell_type": "code",
   "execution_count": 38,
   "id": "extra-crest",
   "metadata": {},
   "outputs": [
    {
     "data": {
      "text/plain": [
       "No     9226\n",
       "Yes      14\n",
       "Name: Search, dtype: int64"
      ]
     },
     "execution_count": 38,
     "metadata": {},
     "output_type": "execute_result"
    }
   ],
   "source": [
    "leads['Search'].value_counts()"
   ]
  },
  {
   "cell_type": "code",
   "execution_count": 39,
   "id": "institutional-spain",
   "metadata": {},
   "outputs": [
    {
     "data": {
      "text/plain": [
       "No    9240\n",
       "Name: Magazine, dtype: int64"
      ]
     },
     "execution_count": 39,
     "metadata": {},
     "output_type": "execute_result"
    }
   ],
   "source": [
    "leads['Magazine'].value_counts()"
   ]
  },
  {
   "cell_type": "code",
   "execution_count": 40,
   "id": "tired-geneva",
   "metadata": {},
   "outputs": [
    {
     "data": {
      "text/plain": [
       "No     9238\n",
       "Yes       2\n",
       "Name: Newspaper Article, dtype: int64"
      ]
     },
     "execution_count": 40,
     "metadata": {},
     "output_type": "execute_result"
    }
   ],
   "source": [
    "leads['Newspaper Article'].value_counts()"
   ]
  },
  {
   "cell_type": "code",
   "execution_count": 41,
   "id": "stretch-tsunami",
   "metadata": {},
   "outputs": [
    {
     "data": {
      "text/plain": [
       "No    9240\n",
       "Name: Receive More Updates About Our Courses, dtype: int64"
      ]
     },
     "execution_count": 41,
     "metadata": {},
     "output_type": "execute_result"
    }
   ],
   "source": [
    "leads['Receive More Updates About Our Courses'].value_counts()"
   ]
  },
  {
   "cell_type": "code",
   "execution_count": 42,
   "id": "superb-kuwait",
   "metadata": {},
   "outputs": [
    {
     "data": {
      "text/plain": [
       "No     9239\n",
       "Yes       1\n",
       "Name: X Education Forums, dtype: int64"
      ]
     },
     "execution_count": 42,
     "metadata": {},
     "output_type": "execute_result"
    }
   ],
   "source": [
    "leads['X Education Forums'].value_counts()"
   ]
  },
  {
   "cell_type": "code",
   "execution_count": 43,
   "id": "secure-underground",
   "metadata": {},
   "outputs": [
    {
     "data": {
      "text/plain": [
       "No     9239\n",
       "Yes       1\n",
       "Name: Newspaper, dtype: int64"
      ]
     },
     "execution_count": 43,
     "metadata": {},
     "output_type": "execute_result"
    }
   ],
   "source": [
    "leads['Newspaper'].value_counts()"
   ]
  },
  {
   "cell_type": "code",
   "execution_count": 44,
   "id": "sexual-reservoir",
   "metadata": {},
   "outputs": [
    {
     "data": {
      "text/plain": [
       "No     9236\n",
       "Yes       4\n",
       "Name: Digital Advertisement, dtype: int64"
      ]
     },
     "execution_count": 44,
     "metadata": {},
     "output_type": "execute_result"
    }
   ],
   "source": [
    "leads['Digital Advertisement'].value_counts()"
   ]
  },
  {
   "cell_type": "code",
   "execution_count": 45,
   "id": "norman-allen",
   "metadata": {},
   "outputs": [
    {
     "data": {
      "text/plain": [
       "No     9233\n",
       "Yes       7\n",
       "Name: Through Recommendations, dtype: int64"
      ]
     },
     "execution_count": 45,
     "metadata": {},
     "output_type": "execute_result"
    }
   ],
   "source": [
    "leads['Through Recommendations'].value_counts()"
   ]
  },
  {
   "cell_type": "code",
   "execution_count": 46,
   "id": "muslim-locator",
   "metadata": {},
   "outputs": [
    {
     "data": {
      "text/plain": [
       "No    9240\n",
       "Name: Receive More Updates About Our Courses, dtype: int64"
      ]
     },
     "execution_count": 46,
     "metadata": {},
     "output_type": "execute_result"
    }
   ],
   "source": [
    "leads['Receive More Updates About Our Courses'].value_counts()"
   ]
  },
  {
   "cell_type": "code",
   "execution_count": 47,
   "id": "altered-tower",
   "metadata": {},
   "outputs": [
    {
     "data": {
      "text/plain": [
       "No    9240\n",
       "Name: Update me on Supply Chain Content, dtype: int64"
      ]
     },
     "execution_count": 47,
     "metadata": {},
     "output_type": "execute_result"
    }
   ],
   "source": [
    "leads['Update me on Supply Chain Content'].value_counts()"
   ]
  },
  {
   "cell_type": "code",
   "execution_count": 48,
   "id": "inside-collins",
   "metadata": {},
   "outputs": [
    {
     "data": {
      "text/plain": [
       "No    9240\n",
       "Name: Get updates on DM Content, dtype: int64"
      ]
     },
     "execution_count": 48,
     "metadata": {},
     "output_type": "execute_result"
    }
   ],
   "source": [
    "leads['Get updates on DM Content'].value_counts()"
   ]
  },
  {
   "cell_type": "code",
   "execution_count": 49,
   "id": "loving-compression",
   "metadata": {},
   "outputs": [
    {
     "data": {
      "text/plain": [
       "No    9240\n",
       "Name: I agree to pay the amount through cheque, dtype: int64"
      ]
     },
     "execution_count": 49,
     "metadata": {},
     "output_type": "execute_result"
    }
   ],
   "source": [
    "leads['I agree to pay the amount through cheque'].value_counts()"
   ]
  },
  {
   "cell_type": "code",
   "execution_count": 50,
   "id": "excess-least",
   "metadata": {},
   "outputs": [],
   "source": [
    "# Adding the redundant columns to cols_to_drop in order to drop them\n",
    "cols_to_drop.extend(['Do Not Call', 'Search', 'Magazine', 'Newspaper Article',\n",
    "                     'Receive More Updates About Our Courses', 'X Education Forums', 'Newspaper', 'Digital Advertisement',\n",
    "                     'Through Recommendations', 'Receive More Updates About Our Courses',\n",
    "                     'Update me on Supply Chain Content', 'Get updates on DM Content',\n",
    "                     'I agree to pay the amount through cheque'])"
   ]
  },
  {
   "cell_type": "code",
   "execution_count": 51,
   "id": "single-sleeping",
   "metadata": {},
   "outputs": [],
   "source": [
    "# Dropping the Variables\n",
    "leads = leads.drop(cols_to_drop, axis = 1)"
   ]
  },
  {
   "cell_type": "code",
   "execution_count": 52,
   "id": "recorded-owner",
   "metadata": {},
   "outputs": [
    {
     "name": "stdout",
     "output_type": "stream",
     "text": [
      "<class 'pandas.core.frame.DataFrame'>\n",
      "RangeIndex: 9240 entries, 0 to 9239\n",
      "Data columns (total 13 columns):\n",
      " #   Column                                  Non-Null Count  Dtype  \n",
      "---  ------                                  --------------  -----  \n",
      " 0   Lead Origin                             9240 non-null   object \n",
      " 1   Lead Source                             9240 non-null   object \n",
      " 2   Do Not Email                            9240 non-null   object \n",
      " 3   Converted                               9240 non-null   int64  \n",
      " 4   TotalVisits                             9240 non-null   float64\n",
      " 5   Total Time Spent on Website             9240 non-null   int64  \n",
      " 6   Page Views Per Visit                    9240 non-null   float64\n",
      " 7   Last Activity                           9240 non-null   object \n",
      " 8   Specialization                          9240 non-null   object \n",
      " 9   What is your current occupation         9240 non-null   object \n",
      " 10  Tags                                    9240 non-null   object \n",
      " 11  A free copy of Mastering The Interview  9240 non-null   object \n",
      " 12  Last Notable Activity                   9240 non-null   object \n",
      "dtypes: float64(2), int64(2), object(9)\n",
      "memory usage: 938.6+ KB\n"
     ]
    }
   ],
   "source": [
    "# Checking the info again\n",
    "leads.info()"
   ]
  },
  {
   "cell_type": "markdown",
   "id": "moral-sense",
   "metadata": {},
   "source": [
    "### Step 5: Univariate Analysis"
   ]
  },
  {
   "cell_type": "markdown",
   "id": "neutral-password",
   "metadata": {},
   "source": [
    "#### Categorical Variables"
   ]
  },
  {
   "cell_type": "code",
   "execution_count": 53,
   "id": "improving-afternoon",
   "metadata": {},
   "outputs": [],
   "source": [
    "def cat_var(cat):\n",
    "    plt.figure(figsize=(15, 5))\n",
    "    ax = sns.countplot(x = cat, hue = leads.Converted, data=leads)\n",
    "    \n",
    "    for p in ax.patches:\n",
    "        width = p.get_width()\n",
    "        height = p.get_height()\n",
    "        x, y = p.get_xy() \n",
    "        ax.annotate(f'{height}', (x + width/2, y + height*1.02), ha='center')\n",
    "    \n",
    "    plt.xticks(rotation = 90)\n",
    "    plt.show()"
   ]
  },
  {
   "cell_type": "code",
   "execution_count": 54,
   "id": "measured-jimmy",
   "metadata": {},
   "outputs": [
    {
     "data": {
      "image/png": "[encoded data removed]",
      "text/plain": [
       "<Figure size 1080x360 with 1 Axes>"
      ]
     },
     "metadata": {},
     "output_type": "display_data"
    }
   ],
   "source": [
    "cat_var('Lead Origin')"
   ]
  },
  {
   "cell_type": "markdown",
   "id": "incoming-exclusion",
   "metadata": {},
   "source": [
    "`Inference:`\n",
    "1. Customers identified via Lead Add Form have a high conversion of 664."
   ]
  },
  {
   "cell_type": "code",
   "execution_count": 55,
   "id": "hourly-saint",
   "metadata": {},
   "outputs": [
    {
     "data": {
      "image/png": "[encoded data removed]",
      "text/plain": [
       "<Figure size 1080x360 with 1 Axes>"
      ]
     },
     "metadata": {},
     "output_type": "display_data"
    }
   ],
   "source": [
    "cat_var('Lead Source')"
   ]
  },
  {
   "cell_type": "markdown",
   "id": "developed-logan",
   "metadata": {},
   "source": [
    "`Inference:`\n",
    "1. Source of Lead via Google and Direct Traffic have high negative conversion as compared to others.\n",
    "2. Leads coming via Reference have the highest conversion rate."
   ]
  },
  {
   "cell_type": "code",
   "execution_count": 56,
   "id": "unsigned-reference",
   "metadata": {},
   "outputs": [],
   "source": [
    "leads['Last Activity'] = leads['Last Activity'].replace(['Unreachable', 'Unsubscribed', 'Had a Phone Conversation',\n",
    "                                                        'View in browser link Clicked', 'Approached upfront',\n",
    "                                                        'Visited Booth in Tradeshow', 'Resubscribed to emails',\n",
    "                                                        'Email Received', 'Email Marked Spam',\n",
    "                                                        'Form Submitted on Website'], 'Other Methods')\n",
    "leads['Last Activity'] = leads['Last Activity'].replace('Others', 'Other Methods')"
   ]
  },
  {
   "cell_type": "code",
   "execution_count": 57,
   "id": "convinced-option",
   "metadata": {},
   "outputs": [
    {
     "data": {
      "image/png": "[encoded data removed]",
      "text/plain": [
       "<Figure size 1080x360 with 1 Axes>"
      ]
     },
     "metadata": {},
     "output_type": "display_data"
    }
   ],
   "source": [
    "cat_var('Last Activity')"
   ]
  },
  {
   "cell_type": "markdown",
   "id": "twenty-stocks",
   "metadata": {},
   "source": [
    "`Inference:`\n",
    "1. Last Activity performed by Customers is SMS sent, then it has conversion of 1727."
   ]
  },
  {
   "cell_type": "code",
   "execution_count": 58,
   "id": "nasty-pickup",
   "metadata": {},
   "outputs": [
    {
     "data": {
      "image/png": "[encoded data removed]",
      "text/plain": [
       "<Figure size 1080x360 with 1 Axes>"
      ]
     },
     "metadata": {},
     "output_type": "display_data"
    }
   ],
   "source": [
    "cat_var('Specialization')"
   ]
  },
  {
   "cell_type": "markdown",
   "id": "premium-commander",
   "metadata": {},
   "source": [
    "`Inference:`\n",
    "1. Customers who worked in Management Specialization have conversion of 1922.\n",
    "2. Customers who worked in Service have the least conversion."
   ]
  },
  {
   "cell_type": "code",
   "execution_count": 59,
   "id": "great-debut",
   "metadata": {},
   "outputs": [
    {
     "data": {
      "image/png": "[encoded data removed]",
      "text/plain": [
       "<Figure size 1080x360 with 1 Axes>"
      ]
     },
     "metadata": {},
     "output_type": "display_data"
    }
   ],
   "source": [
    "cat_var('What is your current occupation')"
   ]
  },
  {
   "cell_type": "markdown",
   "id": "durable-layout",
   "metadata": {},
   "source": [
    "`Inference:`\n",
    "1. It is interesting to know that out of 5600, only 2441 converted.\n",
    "2. From 706 Working Professionals, 647 converted."
   ]
  },
  {
   "cell_type": "code",
   "execution_count": 60,
   "id": "through-drilling",
   "metadata": {},
   "outputs": [],
   "source": [
    "# Grouping values with low count in order to remove bias\n",
    "leads['Last Notable Activity'] = leads['Last Notable Activity'].replace(['Email Bounced', 'Email Link Clicked',\n",
    "                                                                         'Unreachable', 'Had a Phone Conversation',\n",
    "                                                                        'Olark Chat Conversation', 'Approached upfront',\n",
    "                                                                        'Resubscribed to emails', 'Unsubscribed',\n",
    "                                                                         'View in browser link Clicked',\n",
    "                                                                        'Form Submitted on Website', 'Email Received',\n",
    "                                                                         'Email Marked Spam'], 'Others')"
   ]
  },
  {
   "cell_type": "code",
   "execution_count": 61,
   "id": "genuine-findings",
   "metadata": {
    "scrolled": false
   },
   "outputs": [
    {
     "data": {
      "image/png": "[encoded data removed]",
      "text/plain": [
       "<Figure size 1080x360 with 1 Axes>"
      ]
     },
     "metadata": {},
     "output_type": "display_data"
    }
   ],
   "source": [
    "cat_var('Last Notable Activity')"
   ]
  },
  {
   "cell_type": "markdown",
   "id": "infinite-entry",
   "metadata": {},
   "source": [
    "`Inference:`\n",
    "1. For individuals with Last Notable activity as SMS sent, 1508 people converted."
   ]
  },
  {
   "cell_type": "code",
   "execution_count": 62,
   "id": "engaging-passion",
   "metadata": {},
   "outputs": [
    {
     "data": {
      "text/plain": [
       "38.53896103896104"
      ]
     },
     "execution_count": 62,
     "metadata": {},
     "output_type": "execute_result"
    }
   ],
   "source": [
    "# Checking the Percentages of Converted Values\n",
    "sum(leads['Converted'])/len(leads['Converted'])*100"
   ]
  },
  {
   "cell_type": "markdown",
   "id": "equipped-letters",
   "metadata": {},
   "source": [
    "`Inference:` There are 38.5% Converted Leads"
   ]
  },
  {
   "cell_type": "markdown",
   "id": "vocal-wright",
   "metadata": {},
   "source": [
    "#### Numerical Variables"
   ]
  },
  {
   "cell_type": "code",
   "execution_count": 63,
   "id": "declared-brake",
   "metadata": {},
   "outputs": [
    {
     "data": {
      "image/png": "[encoded data removed]",
      "text/plain": [
       "<Figure size 720x720 with 2 Axes>"
      ]
     },
     "metadata": {},
     "output_type": "display_data"
    }
   ],
   "source": [
    "# Checking the Numberical columns for Corelation\n",
    "plt.figure(figsize = (10,10))\n",
    "sns.heatmap(leads.corr(), annot = True, cmap= 'Reds')\n",
    "plt.show()"
   ]
  },
  {
   "cell_type": "markdown",
   "id": "checked-genetics",
   "metadata": {},
   "source": [
    "### Step 6: Outlier Treatment"
   ]
  },
  {
   "cell_type": "code",
   "execution_count": 64,
   "id": "specialized-guyana",
   "metadata": {},
   "outputs": [
    {
     "data": {
      "image/png": "[encoded data removed]",
      "text/plain": [
       "<Figure size 432x288 with 1 Axes>"
      ]
     },
     "metadata": {},
     "output_type": "display_data"
    }
   ],
   "source": [
    "# 'TotalVisits'\n",
    "sns.boxplot(y= leads['TotalVisits'])\n",
    "plt.show()"
   ]
  },
  {
   "cell_type": "code",
   "execution_count": 65,
   "id": "pediatric-serial",
   "metadata": {},
   "outputs": [
    {
     "data": {
      "text/plain": [
       "count    9240.000000\n",
       "mean        3.438636\n",
       "std         4.819024\n",
       "min         0.000000\n",
       "5%          0.000000\n",
       "25%         1.000000\n",
       "50%         3.000000\n",
       "75%         5.000000\n",
       "90%         7.000000\n",
       "95%        10.000000\n",
       "99%        17.000000\n",
       "max       251.000000\n",
       "Name: TotalVisits, dtype: float64"
      ]
     },
     "execution_count": 65,
     "metadata": {},
     "output_type": "execute_result"
    }
   ],
   "source": [
    "leads['TotalVisits'].describe(percentiles = [0.05, 0.25, 0.5, 0.75, 0.90, 0.95, 0.99])"
   ]
  },
  {
   "cell_type": "code",
   "execution_count": 66,
   "id": "sweet-flooring",
   "metadata": {},
   "outputs": [
    {
     "data": {
      "image/png": "[encoded data removed]",
      "text/plain": [
       "<Figure size 432x288 with 1 Axes>"
      ]
     },
     "metadata": {},
     "output_type": "display_data"
    }
   ],
   "source": [
    "# Removing the top 1% of the value to handle outliers\n",
    "leads = leads[(leads['TotalVisits'] <= leads['TotalVisits'].quantile(0.99))]\n",
    "sns.boxplot(y = leads['TotalVisits'])\n",
    "plt.show()"
   ]
  },
  {
   "cell_type": "code",
   "execution_count": 67,
   "id": "prescribed-browser",
   "metadata": {},
   "outputs": [
    {
     "data": {
      "image/png": "[encoded data removed]",
      "text/plain": [
       "<Figure size 432x288 with 1 Axes>"
      ]
     },
     "metadata": {},
     "output_type": "display_data"
    }
   ],
   "source": [
    "# 'Total Time Spent on Website'\n",
    "sns.boxplot(y = leads['Total Time Spent on Website'])\n",
    "plt.show()"
   ]
  },
  {
   "cell_type": "code",
   "execution_count": 68,
   "id": "engaged-nylon",
   "metadata": {},
   "outputs": [
    {
     "data": {
      "text/plain": [
       "count    9157.000000\n",
       "mean        2.332225\n",
       "std         2.047285\n",
       "min         0.000000\n",
       "5%          0.000000\n",
       "25%         1.000000\n",
       "50%         2.000000\n",
       "75%         3.000000\n",
       "90%         5.000000\n",
       "95%         6.000000\n",
       "99%         9.000000\n",
       "max        16.000000\n",
       "Name: Page Views Per Visit, dtype: float64"
      ]
     },
     "execution_count": 68,
     "metadata": {},
     "output_type": "execute_result"
    }
   ],
   "source": [
    "# 'Page Views Per Visit'\n",
    "leads['Page Views Per Visit'].describe(percentiles = [0.05, 0.25, 0.5, 0.75, 0.90, 0.95, 0.99])"
   ]
  },
  {
   "cell_type": "code",
   "execution_count": 69,
   "id": "impaired-patrick",
   "metadata": {},
   "outputs": [
    {
     "data": {
      "image/png": "[encoded data removed]",
      "text/plain": [
       "<Figure size 432x288 with 1 Axes>"
      ]
     },
     "metadata": {},
     "output_type": "display_data"
    }
   ],
   "source": [
    "# Removing the top 1% of the values to handle the outliers\n",
    "leads = leads[(leads['Page Views Per Visit'] <= leads['Page Views Per Visit'].quantile(0.99))]\n",
    "sns.boxplot(y = leads['Page Views Per Visit'])\n",
    "plt.show()"
   ]
  },
  {
   "cell_type": "code",
   "execution_count": 70,
   "id": "sharp-colonial",
   "metadata": {},
   "outputs": [
    {
     "data": {
      "image/png": "[encoded data removed]",
      "text/plain": [
       "<Figure size 432x288 with 1 Axes>"
      ]
     },
     "metadata": {},
     "output_type": "display_data"
    }
   ],
   "source": [
    "# Checking 'TotalVisits' vs 'Converted'\n",
    "sns.boxplot(x = leads['Converted'], y = leads['TotalVisits'])\n",
    "plt.show()"
   ]
  },
  {
   "cell_type": "markdown",
   "id": "extended-appraisal",
   "metadata": {},
   "source": [
    "`Inference:` Median of both Converted and Not Converted for 'TotalVisits' is almost same."
   ]
  },
  {
   "cell_type": "code",
   "execution_count": 71,
   "id": "wired-reflection",
   "metadata": {},
   "outputs": [
    {
     "data": {
      "image/png": "[encoded data removed]",
      "text/plain": [
       "<Figure size 432x288 with 1 Axes>"
      ]
     },
     "metadata": {},
     "output_type": "display_data"
    }
   ],
   "source": [
    "# Checking 'Page Views Per Visit' vs 'Converted'\n",
    "sns.boxplot(x = leads['Converted'], y = leads['Page Views Per Visit'])\n",
    "plt.show()"
   ]
  },
  {
   "cell_type": "markdown",
   "id": "active-basket",
   "metadata": {},
   "source": [
    "`Inference:` Median of both Converted and Not Converted for 'Page Views Per Visit' is almost same."
   ]
  },
  {
   "cell_type": "code",
   "execution_count": 72,
   "id": "nonprofit-military",
   "metadata": {},
   "outputs": [
    {
     "data": {
      "image/png": "[encoded data removed]",
      "text/plain": [
       "<Figure size 432x288 with 1 Axes>"
      ]
     },
     "metadata": {},
     "output_type": "display_data"
    }
   ],
   "source": [
    "# Checking 'Page Views Per Visit' vs 'Converted'\n",
    "sns.boxplot(x = leads['Converted'], y = leads['Total Time Spent on Website'])\n",
    "plt.show()"
   ]
  },
  {
   "cell_type": "markdown",
   "id": "narrative-utility",
   "metadata": {},
   "source": [
    "`Inference:` Leads spending more time on the website tend to be converted."
   ]
  },
  {
   "cell_type": "code",
   "execution_count": 73,
   "id": "behind-prescription",
   "metadata": {},
   "outputs": [],
   "source": [
    "# Converting Yes/No into 1/0 to fit the model\n",
    "def binary_map(x):\n",
    "    return x.map({'Yes': 1, 'No':0})\n",
    "\n",
    "varlist = ['Do Not Email', 'A free copy of Mastering The Interview']\n",
    "\n",
    "# Applying the above custom function\n",
    "\n",
    "leads[varlist] = leads[varlist].apply(binary_map)"
   ]
  },
  {
   "cell_type": "code",
   "execution_count": 74,
   "id": "experimental-freeware",
   "metadata": {},
   "outputs": [
    {
     "data": {
      "text/html": [
       "<div>\n",
       "<style scoped>\n",
       "    .dataframe tbody tr th:only-of-type {\n",
       "        vertical-align: middle;\n",
       "    }\n",
       "\n",
       "    .dataframe tbody tr th {\n",
       "        vertical-align: top;\n",
       "    }\n",
       "\n",
       "    .dataframe thead th {\n",
       "        text-align: right;\n",
       "    }\n",
       "</style>\n",
       "<table border=\"1\" class=\"dataframe\">\n",
       "  <thead>\n",
       "    <tr style=\"text-align: right;\">\n",
       "      <th></th>\n",
       "      <th>Lead Origin</th>\n",
       "      <th>Lead Source</th>\n",
       "      <th>Do Not Email</th>\n",
       "      <th>Converted</th>\n",
       "      <th>TotalVisits</th>\n",
       "      <th>Total Time Spent on Website</th>\n",
       "      <th>Page Views Per Visit</th>\n",
       "      <th>Last Activity</th>\n",
       "      <th>Specialization</th>\n",
       "      <th>What is your current occupation</th>\n",
       "      <th>Tags</th>\n",
       "      <th>A free copy of Mastering The Interview</th>\n",
       "      <th>Last Notable Activity</th>\n",
       "    </tr>\n",
       "  </thead>\n",
       "  <tbody>\n",
       "    <tr>\n",
       "      <th>0</th>\n",
       "      <td>API</td>\n",
       "      <td>Olark Chat</td>\n",
       "      <td>0</td>\n",
       "      <td>0</td>\n",
       "      <td>0.0</td>\n",
       "      <td>0</td>\n",
       "      <td>0.0</td>\n",
       "      <td>Page Visited on Website</td>\n",
       "      <td>Not Specified</td>\n",
       "      <td>Unemployed</td>\n",
       "      <td>Interested in other courses</td>\n",
       "      <td>0</td>\n",
       "      <td>Modified</td>\n",
       "    </tr>\n",
       "    <tr>\n",
       "      <th>1</th>\n",
       "      <td>API</td>\n",
       "      <td>Organic Search</td>\n",
       "      <td>0</td>\n",
       "      <td>0</td>\n",
       "      <td>5.0</td>\n",
       "      <td>674</td>\n",
       "      <td>2.5</td>\n",
       "      <td>Email Opened</td>\n",
       "      <td>Not Specified</td>\n",
       "      <td>Unemployed</td>\n",
       "      <td>Ringing</td>\n",
       "      <td>0</td>\n",
       "      <td>Email Opened</td>\n",
       "    </tr>\n",
       "    <tr>\n",
       "      <th>2</th>\n",
       "      <td>Landing Page Submission</td>\n",
       "      <td>Direct Traffic</td>\n",
       "      <td>0</td>\n",
       "      <td>1</td>\n",
       "      <td>2.0</td>\n",
       "      <td>1532</td>\n",
       "      <td>2.0</td>\n",
       "      <td>Email Opened</td>\n",
       "      <td>Business Administration</td>\n",
       "      <td>Student</td>\n",
       "      <td>Will revert after reading the email</td>\n",
       "      <td>1</td>\n",
       "      <td>Email Opened</td>\n",
       "    </tr>\n",
       "    <tr>\n",
       "      <th>3</th>\n",
       "      <td>Landing Page Submission</td>\n",
       "      <td>Direct Traffic</td>\n",
       "      <td>0</td>\n",
       "      <td>0</td>\n",
       "      <td>1.0</td>\n",
       "      <td>305</td>\n",
       "      <td>1.0</td>\n",
       "      <td>Other Methods</td>\n",
       "      <td>Media and Advertising</td>\n",
       "      <td>Unemployed</td>\n",
       "      <td>Ringing</td>\n",
       "      <td>0</td>\n",
       "      <td>Modified</td>\n",
       "    </tr>\n",
       "    <tr>\n",
       "      <th>4</th>\n",
       "      <td>Landing Page Submission</td>\n",
       "      <td>Google</td>\n",
       "      <td>0</td>\n",
       "      <td>1</td>\n",
       "      <td>2.0</td>\n",
       "      <td>1428</td>\n",
       "      <td>1.0</td>\n",
       "      <td>Converted to Lead</td>\n",
       "      <td>Not Specified</td>\n",
       "      <td>Unemployed</td>\n",
       "      <td>Will revert after reading the email</td>\n",
       "      <td>0</td>\n",
       "      <td>Modified</td>\n",
       "    </tr>\n",
       "  </tbody>\n",
       "</table>\n",
       "</div>"
      ],
      "text/plain": [
       "               Lead Origin     Lead Source  Do Not Email  Converted  TotalVisits  Total Time Spent on Website  Page Views Per Visit            Last Activity           Specialization What is your current occupation                                 Tags  A free copy of Mastering The Interview Last Notable Activity\n",
       "0                      API      Olark Chat             0          0          0.0                            0                   0.0  Page Visited on Website            Not Specified                      Unemployed          Interested in other courses                                       0              Modified\n",
       "1                      API  Organic Search             0          0          5.0                          674                   2.5             Email Opened            Not Specified                      Unemployed                              Ringing                                       0          Email Opened\n",
       "2  Landing Page Submission  Direct Traffic             0          1          2.0                         1532                   2.0             Email Opened  Business Administration                         Student  Will revert after reading the email                                       1          Email Opened\n",
       "3  Landing Page Submission  Direct Traffic             0          0          1.0                          305                   1.0            Other Methods    Media and Advertising                      Unemployed                              Ringing                                       0              Modified\n",
       "4  Landing Page Submission          Google             0          1          2.0                         1428                   1.0        Converted to Lead            Not Specified                      Unemployed  Will revert after reading the email                                       0              Modified"
      ]
     },
     "execution_count": 74,
     "metadata": {},
     "output_type": "execute_result"
    }
   ],
   "source": [
    "leads.head()"
   ]
  },
  {
   "cell_type": "markdown",
   "id": "hispanic-fever",
   "metadata": {},
   "source": [
    "### Step 7: Creating Dummy Variables"
   ]
  },
  {
   "cell_type": "code",
   "execution_count": 75,
   "id": "compact-silly",
   "metadata": {},
   "outputs": [
    {
     "data": {
      "text/plain": [
       "Index(['Lead Origin', 'Lead Source', 'Last Activity', 'Specialization', 'What is your current occupation', 'Tags', 'Last Notable Activity'], dtype='object')"
      ]
     },
     "execution_count": 75,
     "metadata": {},
     "output_type": "execute_result"
    }
   ],
   "source": [
    "cat_cols = leads.select_dtypes(include = 'object').columns\n",
    "cat_cols"
   ]
  },
  {
   "cell_type": "code",
   "execution_count": 76,
   "id": "right-antigua",
   "metadata": {},
   "outputs": [],
   "source": [
    "# Lead Origin\n",
    "Lead_Origin = pd.get_dummies(leads['Lead Origin'], prefix = 'Lead_Origin')\n",
    "Lead_Origin = Lead_Origin.drop('Lead_Origin_Quick Add Form', axis = 1)\n",
    "leads = pd.concat([leads, Lead_Origin], axis = 1)"
   ]
  },
  {
   "cell_type": "code",
   "execution_count": 77,
   "id": "acoustic-finding",
   "metadata": {},
   "outputs": [],
   "source": [
    "# Lead Source\n",
    "Lead_Source = pd.get_dummies(leads['Lead Source'], prefix = 'Lead_Source')\n",
    "Lead_Source = Lead_Source.drop('Lead_Source_Others', axis = 1)\n",
    "leads = pd.concat([leads, Lead_Source], axis = 1)"
   ]
  },
  {
   "cell_type": "code",
   "execution_count": 78,
   "id": "animated-trailer",
   "metadata": {},
   "outputs": [],
   "source": [
    "# Last Activity\n",
    "Last_Activity = pd.get_dummies(leads['Last Activity'], prefix = 'Last_Activity')\n",
    "Last_Activity = Last_Activity.drop('Last_Activity_Other Methods', axis = 1)\n",
    "leads = pd.concat([leads, Last_Activity], axis = 1)"
   ]
  },
  {
   "cell_type": "code",
   "execution_count": 79,
   "id": "hybrid-accused",
   "metadata": {},
   "outputs": [],
   "source": [
    "# Specialization\n",
    "Special = pd.get_dummies(leads['Specialization'], prefix = 'Specialization')\n",
    "Special = Special.drop('Specialization_Not Specified', axis = 1)\n",
    "leads = pd.concat([leads, Special], axis = 1)"
   ]
  },
  {
   "cell_type": "code",
   "execution_count": 80,
   "id": "wrong-terminal",
   "metadata": {},
   "outputs": [],
   "source": [
    "# What is your current occupation\n",
    "occup = pd.get_dummies(leads['What is your current occupation'], prefix = 'Occupation')\n",
    "occup = occup.drop('Occupation_Other', axis = 1)\n",
    "leads = pd.concat([leads, occup], axis = 1)"
   ]
  },
  {
   "cell_type": "code",
   "execution_count": 81,
   "id": "fourth-prescription",
   "metadata": {},
   "outputs": [],
   "source": [
    "# Tags\n",
    "tags = pd.get_dummies(leads['Tags'], prefix = 'Tags')\n",
    "tags = tags.drop('Tags_Not Specified', axis = 1)\n",
    "leads = pd.concat([leads, tags], axis = 1)"
   ]
  },
  {
   "cell_type": "code",
   "execution_count": 82,
   "id": "embedded-accordance",
   "metadata": {},
   "outputs": [],
   "source": [
    "# Last Notable Activity\n",
    "act = pd.get_dummies(leads['Last Notable Activity'], prefix = 'Last_Notable_Activity')\n",
    "act = act.drop('Last_Notable_Activity_Others', axis = 1)\n",
    "leads = pd.concat([leads, act], axis = 1)"
   ]
  },
  {
   "cell_type": "code",
   "execution_count": 83,
   "id": "lovely-liver",
   "metadata": {},
   "outputs": [
    {
     "data": {
      "text/html": [
       "<div>\n",
       "<style scoped>\n",
       "    .dataframe tbody tr th:only-of-type {\n",
       "        vertical-align: middle;\n",
       "    }\n",
       "\n",
       "    .dataframe tbody tr th {\n",
       "        vertical-align: top;\n",
       "    }\n",
       "\n",
       "    .dataframe thead th {\n",
       "        text-align: right;\n",
       "    }\n",
       "</style>\n",
       "<table border=\"1\" class=\"dataframe\">\n",
       "  <thead>\n",
       "    <tr style=\"text-align: right;\">\n",
       "      <th></th>\n",
       "      <th>Lead Origin</th>\n",
       "      <th>Lead Source</th>\n",
       "      <th>Do Not Email</th>\n",
       "      <th>Converted</th>\n",
       "      <th>TotalVisits</th>\n",
       "      <th>Total Time Spent on Website</th>\n",
       "      <th>Page Views Per Visit</th>\n",
       "      <th>Last Activity</th>\n",
       "      <th>Specialization</th>\n",
       "      <th>What is your current occupation</th>\n",
       "      <th>Tags</th>\n",
       "      <th>A free copy of Mastering The Interview</th>\n",
       "      <th>Last Notable Activity</th>\n",
       "      <th>Lead_Origin_API</th>\n",
       "      <th>Lead_Origin_Landing Page Submission</th>\n",
       "      <th>Lead_Origin_Lead Add Form</th>\n",
       "      <th>Lead_Origin_Lead Import</th>\n",
       "      <th>Lead_Source_Direct Traffic</th>\n",
       "      <th>Lead_Source_Google</th>\n",
       "      <th>Lead_Source_Olark Chat</th>\n",
       "      <th>Lead_Source_Organic Search</th>\n",
       "      <th>Lead_Source_Reference</th>\n",
       "      <th>Lead_Source_Welingak Website</th>\n",
       "      <th>Last_Activity_Converted to Lead</th>\n",
       "      <th>Last_Activity_Email Bounced</th>\n",
       "      <th>Last_Activity_Email Link Clicked</th>\n",
       "      <th>Last_Activity_Email Opened</th>\n",
       "      <th>Last_Activity_Olark Chat Conversation</th>\n",
       "      <th>Last_Activity_Page Visited on Website</th>\n",
       "      <th>Last_Activity_SMS Sent</th>\n",
       "      <th>Specialization_Banking, Investment And Insurance</th>\n",
       "      <th>Specialization_Business Administration</th>\n",
       "      <th>Specialization_Business Specializations</th>\n",
       "      <th>Specialization_E-COMMERCE</th>\n",
       "      <th>Specialization_Management Specializations</th>\n",
       "      <th>Specialization_Media and Advertising</th>\n",
       "      <th>Specialization_Services Excellence</th>\n",
       "      <th>Specialization_Travel and Tourism</th>\n",
       "      <th>Occupation_Not Specified</th>\n",
       "      <th>Occupation_Student</th>\n",
       "      <th>Occupation_Unemployed</th>\n",
       "      <th>Occupation_Working Professional</th>\n",
       "      <th>Tags_Already a student</th>\n",
       "      <th>Tags_Closed by Horizzon</th>\n",
       "      <th>Tags_Interested in Next batch</th>\n",
       "      <th>Tags_Interested in other courses</th>\n",
       "      <th>Tags_Other Tags</th>\n",
       "      <th>Tags_Ringing</th>\n",
       "      <th>Tags_Still Thinking</th>\n",
       "      <th>Tags_Will revert after reading the email</th>\n",
       "      <th>Last_Notable_Activity_Email Opened</th>\n",
       "      <th>Last_Notable_Activity_Modified</th>\n",
       "      <th>Last_Notable_Activity_Page Visited on Website</th>\n",
       "      <th>Last_Notable_Activity_SMS Sent</th>\n",
       "    </tr>\n",
       "  </thead>\n",
       "  <tbody>\n",
       "    <tr>\n",
       "      <th>0</th>\n",
       "      <td>API</td>\n",
       "      <td>Olark Chat</td>\n",
       "      <td>0</td>\n",
       "      <td>0</td>\n",
       "      <td>0.0</td>\n",
       "      <td>0</td>\n",
       "      <td>0.0</td>\n",
       "      <td>Page Visited on Website</td>\n",
       "      <td>Not Specified</td>\n",
       "      <td>Unemployed</td>\n",
       "      <td>Interested in other courses</td>\n",
       "      <td>0</td>\n",
       "      <td>Modified</td>\n",
       "      <td>1</td>\n",
       "      <td>0</td>\n",
       "      <td>0</td>\n",
       "      <td>0</td>\n",
       "      <td>0</td>\n",
       "      <td>0</td>\n",
       "      <td>1</td>\n",
       "      <td>0</td>\n",
       "      <td>0</td>\n",
       "      <td>0</td>\n",
       "      <td>0</td>\n",
       "      <td>0</td>\n",
       "      <td>0</td>\n",
       "      <td>0</td>\n",
       "      <td>0</td>\n",
       "      <td>1</td>\n",
       "      <td>0</td>\n",
       "      <td>0</td>\n",
       "      <td>0</td>\n",
       "      <td>0</td>\n",
       "      <td>0</td>\n",
       "      <td>0</td>\n",
       "      <td>0</td>\n",
       "      <td>0</td>\n",
       "      <td>0</td>\n",
       "      <td>0</td>\n",
       "      <td>0</td>\n",
       "      <td>1</td>\n",
       "      <td>0</td>\n",
       "      <td>0</td>\n",
       "      <td>0</td>\n",
       "      <td>0</td>\n",
       "      <td>1</td>\n",
       "      <td>0</td>\n",
       "      <td>0</td>\n",
       "      <td>0</td>\n",
       "      <td>0</td>\n",
       "      <td>0</td>\n",
       "      <td>1</td>\n",
       "      <td>0</td>\n",
       "      <td>0</td>\n",
       "    </tr>\n",
       "    <tr>\n",
       "      <th>1</th>\n",
       "      <td>API</td>\n",
       "      <td>Organic Search</td>\n",
       "      <td>0</td>\n",
       "      <td>0</td>\n",
       "      <td>5.0</td>\n",
       "      <td>674</td>\n",
       "      <td>2.5</td>\n",
       "      <td>Email Opened</td>\n",
       "      <td>Not Specified</td>\n",
       "      <td>Unemployed</td>\n",
       "      <td>Ringing</td>\n",
       "      <td>0</td>\n",
       "      <td>Email Opened</td>\n",
       "      <td>1</td>\n",
       "      <td>0</td>\n",
       "      <td>0</td>\n",
       "      <td>0</td>\n",
       "      <td>0</td>\n",
       "      <td>0</td>\n",
       "      <td>0</td>\n",
       "      <td>1</td>\n",
       "      <td>0</td>\n",
       "      <td>0</td>\n",
       "      <td>0</td>\n",
       "      <td>0</td>\n",
       "      <td>0</td>\n",
       "      <td>1</td>\n",
       "      <td>0</td>\n",
       "      <td>0</td>\n",
       "      <td>0</td>\n",
       "      <td>0</td>\n",
       "      <td>0</td>\n",
       "      <td>0</td>\n",
       "      <td>0</td>\n",
       "      <td>0</td>\n",
       "      <td>0</td>\n",
       "      <td>0</td>\n",
       "      <td>0</td>\n",
       "      <td>0</td>\n",
       "      <td>0</td>\n",
       "      <td>1</td>\n",
       "      <td>0</td>\n",
       "      <td>0</td>\n",
       "      <td>0</td>\n",
       "      <td>0</td>\n",
       "      <td>0</td>\n",
       "      <td>0</td>\n",
       "      <td>1</td>\n",
       "      <td>0</td>\n",
       "      <td>0</td>\n",
       "      <td>1</td>\n",
       "      <td>0</td>\n",
       "      <td>0</td>\n",
       "      <td>0</td>\n",
       "    </tr>\n",
       "    <tr>\n",
       "      <th>2</th>\n",
       "      <td>Landing Page Submission</td>\n",
       "      <td>Direct Traffic</td>\n",
       "      <td>0</td>\n",
       "      <td>1</td>\n",
       "      <td>2.0</td>\n",
       "      <td>1532</td>\n",
       "      <td>2.0</td>\n",
       "      <td>Email Opened</td>\n",
       "      <td>Business Administration</td>\n",
       "      <td>Student</td>\n",
       "      <td>Will revert after reading the email</td>\n",
       "      <td>1</td>\n",
       "      <td>Email Opened</td>\n",
       "      <td>0</td>\n",
       "      <td>1</td>\n",
       "      <td>0</td>\n",
       "      <td>0</td>\n",
       "      <td>1</td>\n",
       "      <td>0</td>\n",
       "      <td>0</td>\n",
       "      <td>0</td>\n",
       "      <td>0</td>\n",
       "      <td>0</td>\n",
       "      <td>0</td>\n",
       "      <td>0</td>\n",
       "      <td>0</td>\n",
       "      <td>1</td>\n",
       "      <td>0</td>\n",
       "      <td>0</td>\n",
       "      <td>0</td>\n",
       "      <td>0</td>\n",
       "      <td>1</td>\n",
       "      <td>0</td>\n",
       "      <td>0</td>\n",
       "      <td>0</td>\n",
       "      <td>0</td>\n",
       "      <td>0</td>\n",
       "      <td>0</td>\n",
       "      <td>0</td>\n",
       "      <td>1</td>\n",
       "      <td>0</td>\n",
       "      <td>0</td>\n",
       "      <td>0</td>\n",
       "      <td>0</td>\n",
       "      <td>0</td>\n",
       "      <td>0</td>\n",
       "      <td>0</td>\n",
       "      <td>0</td>\n",
       "      <td>0</td>\n",
       "      <td>1</td>\n",
       "      <td>1</td>\n",
       "      <td>0</td>\n",
       "      <td>0</td>\n",
       "      <td>0</td>\n",
       "    </tr>\n",
       "    <tr>\n",
       "      <th>3</th>\n",
       "      <td>Landing Page Submission</td>\n",
       "      <td>Direct Traffic</td>\n",
       "      <td>0</td>\n",
       "      <td>0</td>\n",
       "      <td>1.0</td>\n",
       "      <td>305</td>\n",
       "      <td>1.0</td>\n",
       "      <td>Other Methods</td>\n",
       "      <td>Media and Advertising</td>\n",
       "      <td>Unemployed</td>\n",
       "      <td>Ringing</td>\n",
       "      <td>0</td>\n",
       "      <td>Modified</td>\n",
       "      <td>0</td>\n",
       "      <td>1</td>\n",
       "      <td>0</td>\n",
       "      <td>0</td>\n",
       "      <td>1</td>\n",
       "      <td>0</td>\n",
       "      <td>0</td>\n",
       "      <td>0</td>\n",
       "      <td>0</td>\n",
       "      <td>0</td>\n",
       "      <td>0</td>\n",
       "      <td>0</td>\n",
       "      <td>0</td>\n",
       "      <td>0</td>\n",
       "      <td>0</td>\n",
       "      <td>0</td>\n",
       "      <td>0</td>\n",
       "      <td>0</td>\n",
       "      <td>0</td>\n",
       "      <td>0</td>\n",
       "      <td>0</td>\n",
       "      <td>0</td>\n",
       "      <td>1</td>\n",
       "      <td>0</td>\n",
       "      <td>0</td>\n",
       "      <td>0</td>\n",
       "      <td>0</td>\n",
       "      <td>1</td>\n",
       "      <td>0</td>\n",
       "      <td>0</td>\n",
       "      <td>0</td>\n",
       "      <td>0</td>\n",
       "      <td>0</td>\n",
       "      <td>0</td>\n",
       "      <td>1</td>\n",
       "      <td>0</td>\n",
       "      <td>0</td>\n",
       "      <td>0</td>\n",
       "      <td>1</td>\n",
       "      <td>0</td>\n",
       "      <td>0</td>\n",
       "    </tr>\n",
       "    <tr>\n",
       "      <th>4</th>\n",
       "      <td>Landing Page Submission</td>\n",
       "      <td>Google</td>\n",
       "      <td>0</td>\n",
       "      <td>1</td>\n",
       "      <td>2.0</td>\n",
       "      <td>1428</td>\n",
       "      <td>1.0</td>\n",
       "      <td>Converted to Lead</td>\n",
       "      <td>Not Specified</td>\n",
       "      <td>Unemployed</td>\n",
       "      <td>Will revert after reading the email</td>\n",
       "      <td>0</td>\n",
       "      <td>Modified</td>\n",
       "      <td>0</td>\n",
       "      <td>1</td>\n",
       "      <td>0</td>\n",
       "      <td>0</td>\n",
       "      <td>0</td>\n",
       "      <td>1</td>\n",
       "      <td>0</td>\n",
       "      <td>0</td>\n",
       "      <td>0</td>\n",
       "      <td>0</td>\n",
       "      <td>1</td>\n",
       "      <td>0</td>\n",
       "      <td>0</td>\n",
       "      <td>0</td>\n",
       "      <td>0</td>\n",
       "      <td>0</td>\n",
       "      <td>0</td>\n",
       "      <td>0</td>\n",
       "      <td>0</td>\n",
       "      <td>0</td>\n",
       "      <td>0</td>\n",
       "      <td>0</td>\n",
       "      <td>0</td>\n",
       "      <td>0</td>\n",
       "      <td>0</td>\n",
       "      <td>0</td>\n",
       "      <td>0</td>\n",
       "      <td>1</td>\n",
       "      <td>0</td>\n",
       "      <td>0</td>\n",
       "      <td>0</td>\n",
       "      <td>0</td>\n",
       "      <td>0</td>\n",
       "      <td>0</td>\n",
       "      <td>0</td>\n",
       "      <td>0</td>\n",
       "      <td>1</td>\n",
       "      <td>0</td>\n",
       "      <td>1</td>\n",
       "      <td>0</td>\n",
       "      <td>0</td>\n",
       "    </tr>\n",
       "  </tbody>\n",
       "</table>\n",
       "</div>"
      ],
      "text/plain": [
       "               Lead Origin     Lead Source  Do Not Email  Converted  TotalVisits  Total Time Spent on Website  Page Views Per Visit            Last Activity           Specialization What is your current occupation                                 Tags  A free copy of Mastering The Interview Last Notable Activity  Lead_Origin_API  Lead_Origin_Landing Page Submission  Lead_Origin_Lead Add Form  Lead_Origin_Lead Import  Lead_Source_Direct Traffic  Lead_Source_Google  Lead_Source_Olark Chat  Lead_Source_Organic Search  Lead_Source_Reference  Lead_Source_Welingak Website  Last_Activity_Converted to Lead  Last_Activity_Email Bounced  Last_Activity_Email Link Clicked  Last_Activity_Email Opened  Last_Activity_Olark Chat Conversation  Last_Activity_Page Visited on Website  Last_Activity_SMS Sent  Specialization_Banking, Investment And Insurance  Specialization_Business Administration  Specialization_Business Specializations  Specialization_E-COMMERCE  Specialization_Management Specializations  Specialization_Media and Advertising  Specialization_Services Excellence  Specialization_Travel and Tourism  Occupation_Not Specified  Occupation_Student  Occupation_Unemployed  Occupation_Working Professional  Tags_Already a student  Tags_Closed by Horizzon  Tags_Interested in Next batch  Tags_Interested in other courses  Tags_Other Tags  Tags_Ringing  Tags_Still Thinking  Tags_Will revert after reading the email  Last_Notable_Activity_Email Opened  Last_Notable_Activity_Modified  Last_Notable_Activity_Page Visited on Website  Last_Notable_Activity_SMS Sent\n",
       "0                      API      Olark Chat             0          0          0.0                            0                   0.0  Page Visited on Website            Not Specified                      Unemployed          Interested in other courses                                       0              Modified                1                                    0                          0                        0                           0                   0                       1                           0                      0                             0                                0                            0                                 0                           0                                      0                                      1                       0                                                 0                                       0                                        0                          0                                          0                                     0                                   0                                  0                         0                   0                      1                                0                       0                        0                              0                                 1                0             0                    0                                         0                                   0                               1                                              0                               0\n",
       "1                      API  Organic Search             0          0          5.0                          674                   2.5             Email Opened            Not Specified                      Unemployed                              Ringing                                       0          Email Opened                1                                    0                          0                        0                           0                   0                       0                           1                      0                             0                                0                            0                                 0                           1                                      0                                      0                       0                                                 0                                       0                                        0                          0                                          0                                     0                                   0                                  0                         0                   0                      1                                0                       0                        0                              0                                 0                0             1                    0                                         0                                   1                               0                                              0                               0\n",
       "2  Landing Page Submission  Direct Traffic             0          1          2.0                         1532                   2.0             Email Opened  Business Administration                         Student  Will revert after reading the email                                       1          Email Opened                0                                    1                          0                        0                           1                   0                       0                           0                      0                             0                                0                            0                                 0                           1                                      0                                      0                       0                                                 0                                       1                                        0                          0                                          0                                     0                                   0                                  0                         0                   1                      0                                0                       0                        0                              0                                 0                0             0                    0                                         1                                   1                               0                                              0                               0\n",
       "3  Landing Page Submission  Direct Traffic             0          0          1.0                          305                   1.0            Other Methods    Media and Advertising                      Unemployed                              Ringing                                       0              Modified                0                                    1                          0                        0                           1                   0                       0                           0                      0                             0                                0                            0                                 0                           0                                      0                                      0                       0                                                 0                                       0                                        0                          0                                          0                                     1                                   0                                  0                         0                   0                      1                                0                       0                        0                              0                                 0                0             1                    0                                         0                                   0                               1                                              0                               0\n",
       "4  Landing Page Submission          Google             0          1          2.0                         1428                   1.0        Converted to Lead            Not Specified                      Unemployed  Will revert after reading the email                                       0              Modified                0                                    1                          0                        0                           0                   1                       0                           0                      0                             0                                1                            0                                 0                           0                                      0                                      0                       0                                                 0                                       0                                        0                          0                                          0                                     0                                   0                                  0                         0                   0                      1                                0                       0                        0                              0                                 0                0             0                    0                                         1                                   0                               1                                              0                               0"
      ]
     },
     "execution_count": 83,
     "metadata": {},
     "output_type": "execute_result"
    }
   ],
   "source": [
    "leads.head()"
   ]
  },
  {
   "cell_type": "markdown",
   "id": "subtle-messaging",
   "metadata": {},
   "source": [
    "#### Dropping the Repeated Variables"
   ]
  },
  {
   "cell_type": "code",
   "execution_count": 84,
   "id": "fallen-sarah",
   "metadata": {},
   "outputs": [],
   "source": [
    "leads = leads.drop(cat_cols, axis = 1)"
   ]
  },
  {
   "cell_type": "code",
   "execution_count": 85,
   "id": "verbal-adjustment",
   "metadata": {},
   "outputs": [
    {
     "data": {
      "text/html": [
       "<div>\n",
       "<style scoped>\n",
       "    .dataframe tbody tr th:only-of-type {\n",
       "        vertical-align: middle;\n",
       "    }\n",
       "\n",
       "    .dataframe tbody tr th {\n",
       "        vertical-align: top;\n",
       "    }\n",
       "\n",
       "    .dataframe thead th {\n",
       "        text-align: right;\n",
       "    }\n",
       "</style>\n",
       "<table border=\"1\" class=\"dataframe\">\n",
       "  <thead>\n",
       "    <tr style=\"text-align: right;\">\n",
       "      <th></th>\n",
       "      <th>Do Not Email</th>\n",
       "      <th>Converted</th>\n",
       "      <th>TotalVisits</th>\n",
       "      <th>Total Time Spent on Website</th>\n",
       "      <th>Page Views Per Visit</th>\n",
       "      <th>A free copy of Mastering The Interview</th>\n",
       "      <th>Lead_Origin_API</th>\n",
       "      <th>Lead_Origin_Landing Page Submission</th>\n",
       "      <th>Lead_Origin_Lead Add Form</th>\n",
       "      <th>Lead_Origin_Lead Import</th>\n",
       "      <th>Lead_Source_Direct Traffic</th>\n",
       "      <th>Lead_Source_Google</th>\n",
       "      <th>Lead_Source_Olark Chat</th>\n",
       "      <th>Lead_Source_Organic Search</th>\n",
       "      <th>Lead_Source_Reference</th>\n",
       "      <th>Lead_Source_Welingak Website</th>\n",
       "      <th>Last_Activity_Converted to Lead</th>\n",
       "      <th>Last_Activity_Email Bounced</th>\n",
       "      <th>Last_Activity_Email Link Clicked</th>\n",
       "      <th>Last_Activity_Email Opened</th>\n",
       "      <th>Last_Activity_Olark Chat Conversation</th>\n",
       "      <th>Last_Activity_Page Visited on Website</th>\n",
       "      <th>Last_Activity_SMS Sent</th>\n",
       "      <th>Specialization_Banking, Investment And Insurance</th>\n",
       "      <th>Specialization_Business Administration</th>\n",
       "      <th>Specialization_Business Specializations</th>\n",
       "      <th>Specialization_E-COMMERCE</th>\n",
       "      <th>Specialization_Management Specializations</th>\n",
       "      <th>Specialization_Media and Advertising</th>\n",
       "      <th>Specialization_Services Excellence</th>\n",
       "      <th>Specialization_Travel and Tourism</th>\n",
       "      <th>Occupation_Not Specified</th>\n",
       "      <th>Occupation_Student</th>\n",
       "      <th>Occupation_Unemployed</th>\n",
       "      <th>Occupation_Working Professional</th>\n",
       "      <th>Tags_Already a student</th>\n",
       "      <th>Tags_Closed by Horizzon</th>\n",
       "      <th>Tags_Interested in Next batch</th>\n",
       "      <th>Tags_Interested in other courses</th>\n",
       "      <th>Tags_Other Tags</th>\n",
       "      <th>Tags_Ringing</th>\n",
       "      <th>Tags_Still Thinking</th>\n",
       "      <th>Tags_Will revert after reading the email</th>\n",
       "      <th>Last_Notable_Activity_Email Opened</th>\n",
       "      <th>Last_Notable_Activity_Modified</th>\n",
       "      <th>Last_Notable_Activity_Page Visited on Website</th>\n",
       "      <th>Last_Notable_Activity_SMS Sent</th>\n",
       "    </tr>\n",
       "  </thead>\n",
       "  <tbody>\n",
       "    <tr>\n",
       "      <th>0</th>\n",
       "      <td>0</td>\n",
       "      <td>0</td>\n",
       "      <td>0.0</td>\n",
       "      <td>0</td>\n",
       "      <td>0.0</td>\n",
       "      <td>0</td>\n",
       "      <td>1</td>\n",
       "      <td>0</td>\n",
       "      <td>0</td>\n",
       "      <td>0</td>\n",
       "      <td>0</td>\n",
       "      <td>0</td>\n",
       "      <td>1</td>\n",
       "      <td>0</td>\n",
       "      <td>0</td>\n",
       "      <td>0</td>\n",
       "      <td>0</td>\n",
       "      <td>0</td>\n",
       "      <td>0</td>\n",
       "      <td>0</td>\n",
       "      <td>0</td>\n",
       "      <td>1</td>\n",
       "      <td>0</td>\n",
       "      <td>0</td>\n",
       "      <td>0</td>\n",
       "      <td>0</td>\n",
       "      <td>0</td>\n",
       "      <td>0</td>\n",
       "      <td>0</td>\n",
       "      <td>0</td>\n",
       "      <td>0</td>\n",
       "      <td>0</td>\n",
       "      <td>0</td>\n",
       "      <td>1</td>\n",
       "      <td>0</td>\n",
       "      <td>0</td>\n",
       "      <td>0</td>\n",
       "      <td>0</td>\n",
       "      <td>1</td>\n",
       "      <td>0</td>\n",
       "      <td>0</td>\n",
       "      <td>0</td>\n",
       "      <td>0</td>\n",
       "      <td>0</td>\n",
       "      <td>1</td>\n",
       "      <td>0</td>\n",
       "      <td>0</td>\n",
       "    </tr>\n",
       "    <tr>\n",
       "      <th>1</th>\n",
       "      <td>0</td>\n",
       "      <td>0</td>\n",
       "      <td>5.0</td>\n",
       "      <td>674</td>\n",
       "      <td>2.5</td>\n",
       "      <td>0</td>\n",
       "      <td>1</td>\n",
       "      <td>0</td>\n",
       "      <td>0</td>\n",
       "      <td>0</td>\n",
       "      <td>0</td>\n",
       "      <td>0</td>\n",
       "      <td>0</td>\n",
       "      <td>1</td>\n",
       "      <td>0</td>\n",
       "      <td>0</td>\n",
       "      <td>0</td>\n",
       "      <td>0</td>\n",
       "      <td>0</td>\n",
       "      <td>1</td>\n",
       "      <td>0</td>\n",
       "      <td>0</td>\n",
       "      <td>0</td>\n",
       "      <td>0</td>\n",
       "      <td>0</td>\n",
       "      <td>0</td>\n",
       "      <td>0</td>\n",
       "      <td>0</td>\n",
       "      <td>0</td>\n",
       "      <td>0</td>\n",
       "      <td>0</td>\n",
       "      <td>0</td>\n",
       "      <td>0</td>\n",
       "      <td>1</td>\n",
       "      <td>0</td>\n",
       "      <td>0</td>\n",
       "      <td>0</td>\n",
       "      <td>0</td>\n",
       "      <td>0</td>\n",
       "      <td>0</td>\n",
       "      <td>1</td>\n",
       "      <td>0</td>\n",
       "      <td>0</td>\n",
       "      <td>1</td>\n",
       "      <td>0</td>\n",
       "      <td>0</td>\n",
       "      <td>0</td>\n",
       "    </tr>\n",
       "    <tr>\n",
       "      <th>2</th>\n",
       "      <td>0</td>\n",
       "      <td>1</td>\n",
       "      <td>2.0</td>\n",
       "      <td>1532</td>\n",
       "      <td>2.0</td>\n",
       "      <td>1</td>\n",
       "      <td>0</td>\n",
       "      <td>1</td>\n",
       "      <td>0</td>\n",
       "      <td>0</td>\n",
       "      <td>1</td>\n",
       "      <td>0</td>\n",
       "      <td>0</td>\n",
       "      <td>0</td>\n",
       "      <td>0</td>\n",
       "      <td>0</td>\n",
       "      <td>0</td>\n",
       "      <td>0</td>\n",
       "      <td>0</td>\n",
       "      <td>1</td>\n",
       "      <td>0</td>\n",
       "      <td>0</td>\n",
       "      <td>0</td>\n",
       "      <td>0</td>\n",
       "      <td>1</td>\n",
       "      <td>0</td>\n",
       "      <td>0</td>\n",
       "      <td>0</td>\n",
       "      <td>0</td>\n",
       "      <td>0</td>\n",
       "      <td>0</td>\n",
       "      <td>0</td>\n",
       "      <td>1</td>\n",
       "      <td>0</td>\n",
       "      <td>0</td>\n",
       "      <td>0</td>\n",
       "      <td>0</td>\n",
       "      <td>0</td>\n",
       "      <td>0</td>\n",
       "      <td>0</td>\n",
       "      <td>0</td>\n",
       "      <td>0</td>\n",
       "      <td>1</td>\n",
       "      <td>1</td>\n",
       "      <td>0</td>\n",
       "      <td>0</td>\n",
       "      <td>0</td>\n",
       "    </tr>\n",
       "    <tr>\n",
       "      <th>3</th>\n",
       "      <td>0</td>\n",
       "      <td>0</td>\n",
       "      <td>1.0</td>\n",
       "      <td>305</td>\n",
       "      <td>1.0</td>\n",
       "      <td>0</td>\n",
       "      <td>0</td>\n",
       "      <td>1</td>\n",
       "      <td>0</td>\n",
       "      <td>0</td>\n",
       "      <td>1</td>\n",
       "      <td>0</td>\n",
       "      <td>0</td>\n",
       "      <td>0</td>\n",
       "      <td>0</td>\n",
       "      <td>0</td>\n",
       "      <td>0</td>\n",
       "      <td>0</td>\n",
       "      <td>0</td>\n",
       "      <td>0</td>\n",
       "      <td>0</td>\n",
       "      <td>0</td>\n",
       "      <td>0</td>\n",
       "      <td>0</td>\n",
       "      <td>0</td>\n",
       "      <td>0</td>\n",
       "      <td>0</td>\n",
       "      <td>0</td>\n",
       "      <td>1</td>\n",
       "      <td>0</td>\n",
       "      <td>0</td>\n",
       "      <td>0</td>\n",
       "      <td>0</td>\n",
       "      <td>1</td>\n",
       "      <td>0</td>\n",
       "      <td>0</td>\n",
       "      <td>0</td>\n",
       "      <td>0</td>\n",
       "      <td>0</td>\n",
       "      <td>0</td>\n",
       "      <td>1</td>\n",
       "      <td>0</td>\n",
       "      <td>0</td>\n",
       "      <td>0</td>\n",
       "      <td>1</td>\n",
       "      <td>0</td>\n",
       "      <td>0</td>\n",
       "    </tr>\n",
       "    <tr>\n",
       "      <th>4</th>\n",
       "      <td>0</td>\n",
       "      <td>1</td>\n",
       "      <td>2.0</td>\n",
       "      <td>1428</td>\n",
       "      <td>1.0</td>\n",
       "      <td>0</td>\n",
       "      <td>0</td>\n",
       "      <td>1</td>\n",
       "      <td>0</td>\n",
       "      <td>0</td>\n",
       "      <td>0</td>\n",
       "      <td>1</td>\n",
       "      <td>0</td>\n",
       "      <td>0</td>\n",
       "      <td>0</td>\n",
       "      <td>0</td>\n",
       "      <td>1</td>\n",
       "      <td>0</td>\n",
       "      <td>0</td>\n",
       "      <td>0</td>\n",
       "      <td>0</td>\n",
       "      <td>0</td>\n",
       "      <td>0</td>\n",
       "      <td>0</td>\n",
       "      <td>0</td>\n",
       "      <td>0</td>\n",
       "      <td>0</td>\n",
       "      <td>0</td>\n",
       "      <td>0</td>\n",
       "      <td>0</td>\n",
       "      <td>0</td>\n",
       "      <td>0</td>\n",
       "      <td>0</td>\n",
       "      <td>1</td>\n",
       "      <td>0</td>\n",
       "      <td>0</td>\n",
       "      <td>0</td>\n",
       "      <td>0</td>\n",
       "      <td>0</td>\n",
       "      <td>0</td>\n",
       "      <td>0</td>\n",
       "      <td>0</td>\n",
       "      <td>1</td>\n",
       "      <td>0</td>\n",
       "      <td>1</td>\n",
       "      <td>0</td>\n",
       "      <td>0</td>\n",
       "    </tr>\n",
       "  </tbody>\n",
       "</table>\n",
       "</div>"
      ],
      "text/plain": [
       "   Do Not Email  Converted  TotalVisits  Total Time Spent on Website  Page Views Per Visit  A free copy of Mastering The Interview  Lead_Origin_API  Lead_Origin_Landing Page Submission  Lead_Origin_Lead Add Form  Lead_Origin_Lead Import  Lead_Source_Direct Traffic  Lead_Source_Google  Lead_Source_Olark Chat  Lead_Source_Organic Search  Lead_Source_Reference  Lead_Source_Welingak Website  Last_Activity_Converted to Lead  Last_Activity_Email Bounced  Last_Activity_Email Link Clicked  Last_Activity_Email Opened  Last_Activity_Olark Chat Conversation  Last_Activity_Page Visited on Website  Last_Activity_SMS Sent  Specialization_Banking, Investment And Insurance  Specialization_Business Administration  Specialization_Business Specializations  Specialization_E-COMMERCE  Specialization_Management Specializations  Specialization_Media and Advertising  Specialization_Services Excellence  Specialization_Travel and Tourism  Occupation_Not Specified  Occupation_Student  Occupation_Unemployed  Occupation_Working Professional  Tags_Already a student  Tags_Closed by Horizzon  Tags_Interested in Next batch  Tags_Interested in other courses  Tags_Other Tags  Tags_Ringing  Tags_Still Thinking  Tags_Will revert after reading the email  Last_Notable_Activity_Email Opened  Last_Notable_Activity_Modified  Last_Notable_Activity_Page Visited on Website  Last_Notable_Activity_SMS Sent\n",
       "0             0          0          0.0                            0                   0.0                                       0                1                                    0                          0                        0                           0                   0                       1                           0                      0                             0                                0                            0                                 0                           0                                      0                                      1                       0                                                 0                                       0                                        0                          0                                          0                                     0                                   0                                  0                         0                   0                      1                                0                       0                        0                              0                                 1                0             0                    0                                         0                                   0                               1                                              0                               0\n",
       "1             0          0          5.0                          674                   2.5                                       0                1                                    0                          0                        0                           0                   0                       0                           1                      0                             0                                0                            0                                 0                           1                                      0                                      0                       0                                                 0                                       0                                        0                          0                                          0                                     0                                   0                                  0                         0                   0                      1                                0                       0                        0                              0                                 0                0             1                    0                                         0                                   1                               0                                              0                               0\n",
       "2             0          1          2.0                         1532                   2.0                                       1                0                                    1                          0                        0                           1                   0                       0                           0                      0                             0                                0                            0                                 0                           1                                      0                                      0                       0                                                 0                                       1                                        0                          0                                          0                                     0                                   0                                  0                         0                   1                      0                                0                       0                        0                              0                                 0                0             0                    0                                         1                                   1                               0                                              0                               0\n",
       "3             0          0          1.0                          305                   1.0                                       0                0                                    1                          0                        0                           1                   0                       0                           0                      0                             0                                0                            0                                 0                           0                                      0                                      0                       0                                                 0                                       0                                        0                          0                                          0                                     1                                   0                                  0                         0                   0                      1                                0                       0                        0                              0                                 0                0             1                    0                                         0                                   0                               1                                              0                               0\n",
       "4             0          1          2.0                         1428                   1.0                                       0                0                                    1                          0                        0                           0                   1                       0                           0                      0                             0                                1                            0                                 0                           0                                      0                                      0                       0                                                 0                                       0                                        0                          0                                          0                                     0                                   0                                  0                         0                   0                      1                                0                       0                        0                              0                                 0                0             0                    0                                         1                                   0                               1                                              0                               0"
      ]
     },
     "execution_count": 85,
     "metadata": {},
     "output_type": "execute_result"
    }
   ],
   "source": [
    "leads.head()"
   ]
  },
  {
   "cell_type": "markdown",
   "id": "unlimited-warning",
   "metadata": {},
   "source": [
    "### Step 8: Train - Test Split"
   ]
  },
  {
   "cell_type": "code",
   "execution_count": 86,
   "id": "compound-indianapolis",
   "metadata": {},
   "outputs": [],
   "source": [
    "y = leads['Converted']\n",
    "\n",
    "X = leads.drop('Converted', axis = 1)"
   ]
  },
  {
   "cell_type": "code",
   "execution_count": 87,
   "id": "harmful-retirement",
   "metadata": {},
   "outputs": [],
   "source": [
    "X_train, X_test, y_train, y_test = train_test_split(X, y, train_size= 0.70, random_state= 100)"
   ]
  },
  {
   "cell_type": "code",
   "execution_count": 88,
   "id": "coupled-smoke",
   "metadata": {},
   "outputs": [
    {
     "data": {
      "text/html": [
       "<div>\n",
       "<style scoped>\n",
       "    .dataframe tbody tr th:only-of-type {\n",
       "        vertical-align: middle;\n",
       "    }\n",
       "\n",
       "    .dataframe tbody tr th {\n",
       "        vertical-align: top;\n",
       "    }\n",
       "\n",
       "    .dataframe thead th {\n",
       "        text-align: right;\n",
       "    }\n",
       "</style>\n",
       "<table border=\"1\" class=\"dataframe\">\n",
       "  <thead>\n",
       "    <tr style=\"text-align: right;\">\n",
       "      <th></th>\n",
       "      <th>Do Not Email</th>\n",
       "      <th>TotalVisits</th>\n",
       "      <th>Total Time Spent on Website</th>\n",
       "      <th>Page Views Per Visit</th>\n",
       "      <th>A free copy of Mastering The Interview</th>\n",
       "      <th>Lead_Origin_API</th>\n",
       "      <th>Lead_Origin_Landing Page Submission</th>\n",
       "      <th>Lead_Origin_Lead Add Form</th>\n",
       "      <th>Lead_Origin_Lead Import</th>\n",
       "      <th>Lead_Source_Direct Traffic</th>\n",
       "      <th>Lead_Source_Google</th>\n",
       "      <th>Lead_Source_Olark Chat</th>\n",
       "      <th>Lead_Source_Organic Search</th>\n",
       "      <th>Lead_Source_Reference</th>\n",
       "      <th>Lead_Source_Welingak Website</th>\n",
       "      <th>Last_Activity_Converted to Lead</th>\n",
       "      <th>Last_Activity_Email Bounced</th>\n",
       "      <th>Last_Activity_Email Link Clicked</th>\n",
       "      <th>Last_Activity_Email Opened</th>\n",
       "      <th>Last_Activity_Olark Chat Conversation</th>\n",
       "      <th>Last_Activity_Page Visited on Website</th>\n",
       "      <th>Last_Activity_SMS Sent</th>\n",
       "      <th>Specialization_Banking, Investment And Insurance</th>\n",
       "      <th>Specialization_Business Administration</th>\n",
       "      <th>Specialization_Business Specializations</th>\n",
       "      <th>Specialization_E-COMMERCE</th>\n",
       "      <th>Specialization_Management Specializations</th>\n",
       "      <th>Specialization_Media and Advertising</th>\n",
       "      <th>Specialization_Services Excellence</th>\n",
       "      <th>Specialization_Travel and Tourism</th>\n",
       "      <th>Occupation_Not Specified</th>\n",
       "      <th>Occupation_Student</th>\n",
       "      <th>Occupation_Unemployed</th>\n",
       "      <th>Occupation_Working Professional</th>\n",
       "      <th>Tags_Already a student</th>\n",
       "      <th>Tags_Closed by Horizzon</th>\n",
       "      <th>Tags_Interested in Next batch</th>\n",
       "      <th>Tags_Interested in other courses</th>\n",
       "      <th>Tags_Other Tags</th>\n",
       "      <th>Tags_Ringing</th>\n",
       "      <th>Tags_Still Thinking</th>\n",
       "      <th>Tags_Will revert after reading the email</th>\n",
       "      <th>Last_Notable_Activity_Email Opened</th>\n",
       "      <th>Last_Notable_Activity_Modified</th>\n",
       "      <th>Last_Notable_Activity_Page Visited on Website</th>\n",
       "      <th>Last_Notable_Activity_SMS Sent</th>\n",
       "    </tr>\n",
       "  </thead>\n",
       "  <tbody>\n",
       "    <tr>\n",
       "      <th>302</th>\n",
       "      <td>0</td>\n",
       "      <td>7.0</td>\n",
       "      <td>250</td>\n",
       "      <td>2.33</td>\n",
       "      <td>0</td>\n",
       "      <td>1</td>\n",
       "      <td>0</td>\n",
       "      <td>0</td>\n",
       "      <td>0</td>\n",
       "      <td>0</td>\n",
       "      <td>0</td>\n",
       "      <td>0</td>\n",
       "      <td>0</td>\n",
       "      <td>0</td>\n",
       "      <td>0</td>\n",
       "      <td>0</td>\n",
       "      <td>0</td>\n",
       "      <td>0</td>\n",
       "      <td>1</td>\n",
       "      <td>0</td>\n",
       "      <td>0</td>\n",
       "      <td>0</td>\n",
       "      <td>0</td>\n",
       "      <td>0</td>\n",
       "      <td>0</td>\n",
       "      <td>0</td>\n",
       "      <td>0</td>\n",
       "      <td>0</td>\n",
       "      <td>0</td>\n",
       "      <td>0</td>\n",
       "      <td>1</td>\n",
       "      <td>0</td>\n",
       "      <td>0</td>\n",
       "      <td>0</td>\n",
       "      <td>0</td>\n",
       "      <td>0</td>\n",
       "      <td>0</td>\n",
       "      <td>0</td>\n",
       "      <td>0</td>\n",
       "      <td>0</td>\n",
       "      <td>0</td>\n",
       "      <td>0</td>\n",
       "      <td>1</td>\n",
       "      <td>0</td>\n",
       "      <td>0</td>\n",
       "      <td>0</td>\n",
       "    </tr>\n",
       "    <tr>\n",
       "      <th>6087</th>\n",
       "      <td>1</td>\n",
       "      <td>0.0</td>\n",
       "      <td>0</td>\n",
       "      <td>0.00</td>\n",
       "      <td>0</td>\n",
       "      <td>1</td>\n",
       "      <td>0</td>\n",
       "      <td>0</td>\n",
       "      <td>0</td>\n",
       "      <td>0</td>\n",
       "      <td>0</td>\n",
       "      <td>1</td>\n",
       "      <td>0</td>\n",
       "      <td>0</td>\n",
       "      <td>0</td>\n",
       "      <td>0</td>\n",
       "      <td>1</td>\n",
       "      <td>0</td>\n",
       "      <td>0</td>\n",
       "      <td>0</td>\n",
       "      <td>0</td>\n",
       "      <td>0</td>\n",
       "      <td>0</td>\n",
       "      <td>0</td>\n",
       "      <td>0</td>\n",
       "      <td>0</td>\n",
       "      <td>0</td>\n",
       "      <td>0</td>\n",
       "      <td>0</td>\n",
       "      <td>0</td>\n",
       "      <td>1</td>\n",
       "      <td>0</td>\n",
       "      <td>0</td>\n",
       "      <td>0</td>\n",
       "      <td>0</td>\n",
       "      <td>0</td>\n",
       "      <td>0</td>\n",
       "      <td>0</td>\n",
       "      <td>0</td>\n",
       "      <td>0</td>\n",
       "      <td>0</td>\n",
       "      <td>0</td>\n",
       "      <td>0</td>\n",
       "      <td>1</td>\n",
       "      <td>0</td>\n",
       "      <td>0</td>\n",
       "    </tr>\n",
       "    <tr>\n",
       "      <th>1033</th>\n",
       "      <td>0</td>\n",
       "      <td>5.0</td>\n",
       "      <td>470</td>\n",
       "      <td>5.00</td>\n",
       "      <td>0</td>\n",
       "      <td>1</td>\n",
       "      <td>0</td>\n",
       "      <td>0</td>\n",
       "      <td>0</td>\n",
       "      <td>0</td>\n",
       "      <td>1</td>\n",
       "      <td>0</td>\n",
       "      <td>0</td>\n",
       "      <td>0</td>\n",
       "      <td>0</td>\n",
       "      <td>0</td>\n",
       "      <td>0</td>\n",
       "      <td>0</td>\n",
       "      <td>1</td>\n",
       "      <td>0</td>\n",
       "      <td>0</td>\n",
       "      <td>0</td>\n",
       "      <td>0</td>\n",
       "      <td>0</td>\n",
       "      <td>0</td>\n",
       "      <td>0</td>\n",
       "      <td>0</td>\n",
       "      <td>0</td>\n",
       "      <td>0</td>\n",
       "      <td>0</td>\n",
       "      <td>0</td>\n",
       "      <td>0</td>\n",
       "      <td>1</td>\n",
       "      <td>0</td>\n",
       "      <td>0</td>\n",
       "      <td>0</td>\n",
       "      <td>0</td>\n",
       "      <td>0</td>\n",
       "      <td>0</td>\n",
       "      <td>0</td>\n",
       "      <td>0</td>\n",
       "      <td>0</td>\n",
       "      <td>1</td>\n",
       "      <td>0</td>\n",
       "      <td>0</td>\n",
       "      <td>0</td>\n",
       "    </tr>\n",
       "    <tr>\n",
       "      <th>7656</th>\n",
       "      <td>1</td>\n",
       "      <td>6.0</td>\n",
       "      <td>352</td>\n",
       "      <td>6.00</td>\n",
       "      <td>1</td>\n",
       "      <td>0</td>\n",
       "      <td>1</td>\n",
       "      <td>0</td>\n",
       "      <td>0</td>\n",
       "      <td>1</td>\n",
       "      <td>0</td>\n",
       "      <td>0</td>\n",
       "      <td>0</td>\n",
       "      <td>0</td>\n",
       "      <td>0</td>\n",
       "      <td>0</td>\n",
       "      <td>0</td>\n",
       "      <td>0</td>\n",
       "      <td>0</td>\n",
       "      <td>0</td>\n",
       "      <td>0</td>\n",
       "      <td>1</td>\n",
       "      <td>0</td>\n",
       "      <td>0</td>\n",
       "      <td>0</td>\n",
       "      <td>0</td>\n",
       "      <td>1</td>\n",
       "      <td>0</td>\n",
       "      <td>0</td>\n",
       "      <td>0</td>\n",
       "      <td>0</td>\n",
       "      <td>0</td>\n",
       "      <td>1</td>\n",
       "      <td>0</td>\n",
       "      <td>0</td>\n",
       "      <td>0</td>\n",
       "      <td>0</td>\n",
       "      <td>0</td>\n",
       "      <td>0</td>\n",
       "      <td>1</td>\n",
       "      <td>0</td>\n",
       "      <td>0</td>\n",
       "      <td>0</td>\n",
       "      <td>0</td>\n",
       "      <td>0</td>\n",
       "      <td>1</td>\n",
       "    </tr>\n",
       "    <tr>\n",
       "      <th>3241</th>\n",
       "      <td>0</td>\n",
       "      <td>4.0</td>\n",
       "      <td>973</td>\n",
       "      <td>1.33</td>\n",
       "      <td>1</td>\n",
       "      <td>0</td>\n",
       "      <td>1</td>\n",
       "      <td>0</td>\n",
       "      <td>0</td>\n",
       "      <td>1</td>\n",
       "      <td>0</td>\n",
       "      <td>0</td>\n",
       "      <td>0</td>\n",
       "      <td>0</td>\n",
       "      <td>0</td>\n",
       "      <td>0</td>\n",
       "      <td>0</td>\n",
       "      <td>0</td>\n",
       "      <td>0</td>\n",
       "      <td>0</td>\n",
       "      <td>0</td>\n",
       "      <td>1</td>\n",
       "      <td>0</td>\n",
       "      <td>1</td>\n",
       "      <td>0</td>\n",
       "      <td>0</td>\n",
       "      <td>0</td>\n",
       "      <td>0</td>\n",
       "      <td>0</td>\n",
       "      <td>0</td>\n",
       "      <td>0</td>\n",
       "      <td>0</td>\n",
       "      <td>1</td>\n",
       "      <td>0</td>\n",
       "      <td>0</td>\n",
       "      <td>0</td>\n",
       "      <td>0</td>\n",
       "      <td>0</td>\n",
       "      <td>0</td>\n",
       "      <td>0</td>\n",
       "      <td>0</td>\n",
       "      <td>1</td>\n",
       "      <td>0</td>\n",
       "      <td>0</td>\n",
       "      <td>0</td>\n",
       "      <td>1</td>\n",
       "    </tr>\n",
       "  </tbody>\n",
       "</table>\n",
       "</div>"
      ],
      "text/plain": [
       "      Do Not Email  TotalVisits  Total Time Spent on Website  Page Views Per Visit  A free copy of Mastering The Interview  Lead_Origin_API  Lead_Origin_Landing Page Submission  Lead_Origin_Lead Add Form  Lead_Origin_Lead Import  Lead_Source_Direct Traffic  Lead_Source_Google  Lead_Source_Olark Chat  Lead_Source_Organic Search  Lead_Source_Reference  Lead_Source_Welingak Website  Last_Activity_Converted to Lead  Last_Activity_Email Bounced  Last_Activity_Email Link Clicked  Last_Activity_Email Opened  Last_Activity_Olark Chat Conversation  Last_Activity_Page Visited on Website  Last_Activity_SMS Sent  Specialization_Banking, Investment And Insurance  Specialization_Business Administration  Specialization_Business Specializations  Specialization_E-COMMERCE  Specialization_Management Specializations  Specialization_Media and Advertising  Specialization_Services Excellence  Specialization_Travel and Tourism  Occupation_Not Specified  Occupation_Student  Occupation_Unemployed  Occupation_Working Professional  Tags_Already a student  Tags_Closed by Horizzon  Tags_Interested in Next batch  Tags_Interested in other courses  Tags_Other Tags  Tags_Ringing  Tags_Still Thinking  Tags_Will revert after reading the email  Last_Notable_Activity_Email Opened  Last_Notable_Activity_Modified  Last_Notable_Activity_Page Visited on Website  Last_Notable_Activity_SMS Sent\n",
       "302              0          7.0                          250                  2.33                                       0                1                                    0                          0                        0                           0                   0                       0                           0                      0                             0                                0                            0                                 0                           1                                      0                                      0                       0                                                 0                                       0                                        0                          0                                          0                                     0                                   0                                  0                         1                   0                      0                                0                       0                        0                              0                                 0                0             0                    0                                         0                                   1                               0                                              0                               0\n",
       "6087             1          0.0                            0                  0.00                                       0                1                                    0                          0                        0                           0                   0                       1                           0                      0                             0                                0                            1                                 0                           0                                      0                                      0                       0                                                 0                                       0                                        0                          0                                          0                                     0                                   0                                  0                         1                   0                      0                                0                       0                        0                              0                                 0                0             0                    0                                         0                                   0                               1                                              0                               0\n",
       "1033             0          5.0                          470                  5.00                                       0                1                                    0                          0                        0                           0                   1                       0                           0                      0                             0                                0                            0                                 0                           1                                      0                                      0                       0                                                 0                                       0                                        0                          0                                          0                                     0                                   0                                  0                         0                   0                      1                                0                       0                        0                              0                                 0                0             0                    0                                         0                                   1                               0                                              0                               0\n",
       "7656             1          6.0                          352                  6.00                                       1                0                                    1                          0                        0                           1                   0                       0                           0                      0                             0                                0                            0                                 0                           0                                      0                                      0                       1                                                 0                                       0                                        0                          0                                          1                                     0                                   0                                  0                         0                   0                      1                                0                       0                        0                              0                                 0                0             1                    0                                         0                                   0                               0                                              0                               1\n",
       "3241             0          4.0                          973                  1.33                                       1                0                                    1                          0                        0                           1                   0                       0                           0                      0                             0                                0                            0                                 0                           0                                      0                                      0                       1                                                 0                                       1                                        0                          0                                          0                                     0                                   0                                  0                         0                   0                      1                                0                       0                        0                              0                                 0                0             0                    0                                         1                                   0                               0                                              0                               1"
      ]
     },
     "execution_count": 88,
     "metadata": {},
     "output_type": "execute_result"
    }
   ],
   "source": [
    "X_train.head()"
   ]
  },
  {
   "cell_type": "markdown",
   "id": "visible-saint",
   "metadata": {},
   "source": [
    "### Step 9: Feature Scaling"
   ]
  },
  {
   "cell_type": "code",
   "execution_count": 89,
   "id": "fifteen-feelings",
   "metadata": {},
   "outputs": [
    {
     "data": {
      "text/html": [
       "<div>\n",
       "<style scoped>\n",
       "    .dataframe tbody tr th:only-of-type {\n",
       "        vertical-align: middle;\n",
       "    }\n",
       "\n",
       "    .dataframe tbody tr th {\n",
       "        vertical-align: top;\n",
       "    }\n",
       "\n",
       "    .dataframe thead th {\n",
       "        text-align: right;\n",
       "    }\n",
       "</style>\n",
       "<table border=\"1\" class=\"dataframe\">\n",
       "  <thead>\n",
       "    <tr style=\"text-align: right;\">\n",
       "      <th></th>\n",
       "      <th>Do Not Email</th>\n",
       "      <th>TotalVisits</th>\n",
       "      <th>Total Time Spent on Website</th>\n",
       "      <th>Page Views Per Visit</th>\n",
       "      <th>A free copy of Mastering The Interview</th>\n",
       "      <th>Lead_Origin_API</th>\n",
       "      <th>Lead_Origin_Landing Page Submission</th>\n",
       "      <th>Lead_Origin_Lead Add Form</th>\n",
       "      <th>Lead_Origin_Lead Import</th>\n",
       "      <th>Lead_Source_Direct Traffic</th>\n",
       "      <th>Lead_Source_Google</th>\n",
       "      <th>Lead_Source_Olark Chat</th>\n",
       "      <th>Lead_Source_Organic Search</th>\n",
       "      <th>Lead_Source_Reference</th>\n",
       "      <th>Lead_Source_Welingak Website</th>\n",
       "      <th>Last_Activity_Converted to Lead</th>\n",
       "      <th>Last_Activity_Email Bounced</th>\n",
       "      <th>Last_Activity_Email Link Clicked</th>\n",
       "      <th>Last_Activity_Email Opened</th>\n",
       "      <th>Last_Activity_Olark Chat Conversation</th>\n",
       "      <th>Last_Activity_Page Visited on Website</th>\n",
       "      <th>Last_Activity_SMS Sent</th>\n",
       "      <th>Specialization_Banking, Investment And Insurance</th>\n",
       "      <th>Specialization_Business Administration</th>\n",
       "      <th>Specialization_Business Specializations</th>\n",
       "      <th>Specialization_E-COMMERCE</th>\n",
       "      <th>Specialization_Management Specializations</th>\n",
       "      <th>Specialization_Media and Advertising</th>\n",
       "      <th>Specialization_Services Excellence</th>\n",
       "      <th>Specialization_Travel and Tourism</th>\n",
       "      <th>Occupation_Not Specified</th>\n",
       "      <th>Occupation_Student</th>\n",
       "      <th>Occupation_Unemployed</th>\n",
       "      <th>Occupation_Working Professional</th>\n",
       "      <th>Tags_Already a student</th>\n",
       "      <th>Tags_Closed by Horizzon</th>\n",
       "      <th>Tags_Interested in Next batch</th>\n",
       "      <th>Tags_Interested in other courses</th>\n",
       "      <th>Tags_Other Tags</th>\n",
       "      <th>Tags_Ringing</th>\n",
       "      <th>Tags_Still Thinking</th>\n",
       "      <th>Tags_Will revert after reading the email</th>\n",
       "      <th>Last_Notable_Activity_Email Opened</th>\n",
       "      <th>Last_Notable_Activity_Modified</th>\n",
       "      <th>Last_Notable_Activity_Page Visited on Website</th>\n",
       "      <th>Last_Notable_Activity_SMS Sent</th>\n",
       "    </tr>\n",
       "  </thead>\n",
       "  <tbody>\n",
       "    <tr>\n",
       "      <th>302</th>\n",
       "      <td>0</td>\n",
       "      <td>1.336782</td>\n",
       "      <td>-0.428736</td>\n",
       "      <td>0.044021</td>\n",
       "      <td>0</td>\n",
       "      <td>1</td>\n",
       "      <td>0</td>\n",
       "      <td>0</td>\n",
       "      <td>0</td>\n",
       "      <td>0</td>\n",
       "      <td>0</td>\n",
       "      <td>0</td>\n",
       "      <td>0</td>\n",
       "      <td>0</td>\n",
       "      <td>0</td>\n",
       "      <td>0</td>\n",
       "      <td>0</td>\n",
       "      <td>0</td>\n",
       "      <td>1</td>\n",
       "      <td>0</td>\n",
       "      <td>0</td>\n",
       "      <td>0</td>\n",
       "      <td>0</td>\n",
       "      <td>0</td>\n",
       "      <td>0</td>\n",
       "      <td>0</td>\n",
       "      <td>0</td>\n",
       "      <td>0</td>\n",
       "      <td>0</td>\n",
       "      <td>0</td>\n",
       "      <td>1</td>\n",
       "      <td>0</td>\n",
       "      <td>0</td>\n",
       "      <td>0</td>\n",
       "      <td>0</td>\n",
       "      <td>0</td>\n",
       "      <td>0</td>\n",
       "      <td>0</td>\n",
       "      <td>0</td>\n",
       "      <td>0</td>\n",
       "      <td>0</td>\n",
       "      <td>0</td>\n",
       "      <td>1</td>\n",
       "      <td>0</td>\n",
       "      <td>0</td>\n",
       "      <td>0</td>\n",
       "    </tr>\n",
       "    <tr>\n",
       "      <th>6087</th>\n",
       "      <td>1</td>\n",
       "      <td>-1.094877</td>\n",
       "      <td>-0.887355</td>\n",
       "      <td>-1.206716</td>\n",
       "      <td>0</td>\n",
       "      <td>1</td>\n",
       "      <td>0</td>\n",
       "      <td>0</td>\n",
       "      <td>0</td>\n",
       "      <td>0</td>\n",
       "      <td>0</td>\n",
       "      <td>1</td>\n",
       "      <td>0</td>\n",
       "      <td>0</td>\n",
       "      <td>0</td>\n",
       "      <td>0</td>\n",
       "      <td>1</td>\n",
       "      <td>0</td>\n",
       "      <td>0</td>\n",
       "      <td>0</td>\n",
       "      <td>0</td>\n",
       "      <td>0</td>\n",
       "      <td>0</td>\n",
       "      <td>0</td>\n",
       "      <td>0</td>\n",
       "      <td>0</td>\n",
       "      <td>0</td>\n",
       "      <td>0</td>\n",
       "      <td>0</td>\n",
       "      <td>0</td>\n",
       "      <td>1</td>\n",
       "      <td>0</td>\n",
       "      <td>0</td>\n",
       "      <td>0</td>\n",
       "      <td>0</td>\n",
       "      <td>0</td>\n",
       "      <td>0</td>\n",
       "      <td>0</td>\n",
       "      <td>0</td>\n",
       "      <td>0</td>\n",
       "      <td>0</td>\n",
       "      <td>0</td>\n",
       "      <td>0</td>\n",
       "      <td>1</td>\n",
       "      <td>0</td>\n",
       "      <td>0</td>\n",
       "    </tr>\n",
       "    <tr>\n",
       "      <th>1033</th>\n",
       "      <td>0</td>\n",
       "      <td>0.642022</td>\n",
       "      <td>-0.025151</td>\n",
       "      <td>1.477269</td>\n",
       "      <td>0</td>\n",
       "      <td>1</td>\n",
       "      <td>0</td>\n",
       "      <td>0</td>\n",
       "      <td>0</td>\n",
       "      <td>0</td>\n",
       "      <td>1</td>\n",
       "      <td>0</td>\n",
       "      <td>0</td>\n",
       "      <td>0</td>\n",
       "      <td>0</td>\n",
       "      <td>0</td>\n",
       "      <td>0</td>\n",
       "      <td>0</td>\n",
       "      <td>1</td>\n",
       "      <td>0</td>\n",
       "      <td>0</td>\n",
       "      <td>0</td>\n",
       "      <td>0</td>\n",
       "      <td>0</td>\n",
       "      <td>0</td>\n",
       "      <td>0</td>\n",
       "      <td>0</td>\n",
       "      <td>0</td>\n",
       "      <td>0</td>\n",
       "      <td>0</td>\n",
       "      <td>0</td>\n",
       "      <td>0</td>\n",
       "      <td>1</td>\n",
       "      <td>0</td>\n",
       "      <td>0</td>\n",
       "      <td>0</td>\n",
       "      <td>0</td>\n",
       "      <td>0</td>\n",
       "      <td>0</td>\n",
       "      <td>0</td>\n",
       "      <td>0</td>\n",
       "      <td>0</td>\n",
       "      <td>1</td>\n",
       "      <td>0</td>\n",
       "      <td>0</td>\n",
       "      <td>0</td>\n",
       "    </tr>\n",
       "    <tr>\n",
       "      <th>7656</th>\n",
       "      <td>1</td>\n",
       "      <td>0.989402</td>\n",
       "      <td>-0.241619</td>\n",
       "      <td>2.014065</td>\n",
       "      <td>1</td>\n",
       "      <td>0</td>\n",
       "      <td>1</td>\n",
       "      <td>0</td>\n",
       "      <td>0</td>\n",
       "      <td>1</td>\n",
       "      <td>0</td>\n",
       "      <td>0</td>\n",
       "      <td>0</td>\n",
       "      <td>0</td>\n",
       "      <td>0</td>\n",
       "      <td>0</td>\n",
       "      <td>0</td>\n",
       "      <td>0</td>\n",
       "      <td>0</td>\n",
       "      <td>0</td>\n",
       "      <td>0</td>\n",
       "      <td>1</td>\n",
       "      <td>0</td>\n",
       "      <td>0</td>\n",
       "      <td>0</td>\n",
       "      <td>0</td>\n",
       "      <td>1</td>\n",
       "      <td>0</td>\n",
       "      <td>0</td>\n",
       "      <td>0</td>\n",
       "      <td>0</td>\n",
       "      <td>0</td>\n",
       "      <td>1</td>\n",
       "      <td>0</td>\n",
       "      <td>0</td>\n",
       "      <td>0</td>\n",
       "      <td>0</td>\n",
       "      <td>0</td>\n",
       "      <td>0</td>\n",
       "      <td>1</td>\n",
       "      <td>0</td>\n",
       "      <td>0</td>\n",
       "      <td>0</td>\n",
       "      <td>0</td>\n",
       "      <td>0</td>\n",
       "      <td>1</td>\n",
       "    </tr>\n",
       "    <tr>\n",
       "      <th>3241</th>\n",
       "      <td>0</td>\n",
       "      <td>0.294642</td>\n",
       "      <td>0.897591</td>\n",
       "      <td>-0.492776</td>\n",
       "      <td>1</td>\n",
       "      <td>0</td>\n",
       "      <td>1</td>\n",
       "      <td>0</td>\n",
       "      <td>0</td>\n",
       "      <td>1</td>\n",
       "      <td>0</td>\n",
       "      <td>0</td>\n",
       "      <td>0</td>\n",
       "      <td>0</td>\n",
       "      <td>0</td>\n",
       "      <td>0</td>\n",
       "      <td>0</td>\n",
       "      <td>0</td>\n",
       "      <td>0</td>\n",
       "      <td>0</td>\n",
       "      <td>0</td>\n",
       "      <td>1</td>\n",
       "      <td>0</td>\n",
       "      <td>1</td>\n",
       "      <td>0</td>\n",
       "      <td>0</td>\n",
       "      <td>0</td>\n",
       "      <td>0</td>\n",
       "      <td>0</td>\n",
       "      <td>0</td>\n",
       "      <td>0</td>\n",
       "      <td>0</td>\n",
       "      <td>1</td>\n",
       "      <td>0</td>\n",
       "      <td>0</td>\n",
       "      <td>0</td>\n",
       "      <td>0</td>\n",
       "      <td>0</td>\n",
       "      <td>0</td>\n",
       "      <td>0</td>\n",
       "      <td>0</td>\n",
       "      <td>1</td>\n",
       "      <td>0</td>\n",
       "      <td>0</td>\n",
       "      <td>0</td>\n",
       "      <td>1</td>\n",
       "    </tr>\n",
       "  </tbody>\n",
       "</table>\n",
       "</div>"
      ],
      "text/plain": [
       "      Do Not Email  TotalVisits  Total Time Spent on Website  Page Views Per Visit  A free copy of Mastering The Interview  Lead_Origin_API  Lead_Origin_Landing Page Submission  Lead_Origin_Lead Add Form  Lead_Origin_Lead Import  Lead_Source_Direct Traffic  Lead_Source_Google  Lead_Source_Olark Chat  Lead_Source_Organic Search  Lead_Source_Reference  Lead_Source_Welingak Website  Last_Activity_Converted to Lead  Last_Activity_Email Bounced  Last_Activity_Email Link Clicked  Last_Activity_Email Opened  Last_Activity_Olark Chat Conversation  Last_Activity_Page Visited on Website  Last_Activity_SMS Sent  Specialization_Banking, Investment And Insurance  Specialization_Business Administration  Specialization_Business Specializations  Specialization_E-COMMERCE  Specialization_Management Specializations  Specialization_Media and Advertising  Specialization_Services Excellence  Specialization_Travel and Tourism  Occupation_Not Specified  Occupation_Student  Occupation_Unemployed  Occupation_Working Professional  Tags_Already a student  Tags_Closed by Horizzon  Tags_Interested in Next batch  Tags_Interested in other courses  Tags_Other Tags  Tags_Ringing  Tags_Still Thinking  Tags_Will revert after reading the email  Last_Notable_Activity_Email Opened  Last_Notable_Activity_Modified  Last_Notable_Activity_Page Visited on Website  Last_Notable_Activity_SMS Sent\n",
       "302              0     1.336782                    -0.428736              0.044021                                       0                1                                    0                          0                        0                           0                   0                       0                           0                      0                             0                                0                            0                                 0                           1                                      0                                      0                       0                                                 0                                       0                                        0                          0                                          0                                     0                                   0                                  0                         1                   0                      0                                0                       0                        0                              0                                 0                0             0                    0                                         0                                   1                               0                                              0                               0\n",
       "6087             1    -1.094877                    -0.887355             -1.206716                                       0                1                                    0                          0                        0                           0                   0                       1                           0                      0                             0                                0                            1                                 0                           0                                      0                                      0                       0                                                 0                                       0                                        0                          0                                          0                                     0                                   0                                  0                         1                   0                      0                                0                       0                        0                              0                                 0                0             0                    0                                         0                                   0                               1                                              0                               0\n",
       "1033             0     0.642022                    -0.025151              1.477269                                       0                1                                    0                          0                        0                           0                   1                       0                           0                      0                             0                                0                            0                                 0                           1                                      0                                      0                       0                                                 0                                       0                                        0                          0                                          0                                     0                                   0                                  0                         0                   0                      1                                0                       0                        0                              0                                 0                0             0                    0                                         0                                   1                               0                                              0                               0\n",
       "7656             1     0.989402                    -0.241619              2.014065                                       1                0                                    1                          0                        0                           1                   0                       0                           0                      0                             0                                0                            0                                 0                           0                                      0                                      0                       1                                                 0                                       0                                        0                          0                                          1                                     0                                   0                                  0                         0                   0                      1                                0                       0                        0                              0                                 0                0             1                    0                                         0                                   0                               0                                              0                               1\n",
       "3241             0     0.294642                     0.897591             -0.492776                                       1                0                                    1                          0                        0                           1                   0                       0                           0                      0                             0                                0                            0                                 0                           0                                      0                                      0                       1                                                 0                                       1                                        0                          0                                          0                                     0                                   0                                  0                         0                   0                      1                                0                       0                        0                              0                                 0                0             0                    0                                         1                                   0                               0                                              0                               1"
      ]
     },
     "execution_count": 89,
     "metadata": {},
     "output_type": "execute_result"
    }
   ],
   "source": [
    "# Scaling the Numerical variables\n",
    "scaler = StandardScaler()\n",
    "\n",
    "num_cols = ['TotalVisits', 'Total Time Spent on Website', 'Page Views Per Visit']\n",
    "\n",
    "X_train[num_cols] = scaler.fit_transform(X_train[num_cols])\n",
    "\n",
    "X_train.head()"
   ]
  },
  {
   "cell_type": "markdown",
   "id": "atmospheric-dressing",
   "metadata": {},
   "source": [
    "### Step 10: Model Building"
   ]
  },
  {
   "cell_type": "markdown",
   "id": "portuguese-blackberry",
   "metadata": {},
   "source": [
    "##### First Model"
   ]
  },
  {
   "cell_type": "code",
   "execution_count": 90,
   "id": "yellow-administrator",
   "metadata": {},
   "outputs": [
    {
     "data": {
      "text/html": [
       "<table class=\"simpletable\">\n",
       "<caption>Generalized Linear Model Regression Results</caption>\n",
       "<tr>\n",
       "  <th>Dep. Variable:</th>       <td>Converted</td>    <th>  No. Observations:  </th>  <td>  6363</td> \n",
       "</tr>\n",
       "<tr>\n",
       "  <th>Model:</th>                  <td>GLM</td>       <th>  Df Residuals:      </th>  <td>  6316</td> \n",
       "</tr>\n",
       "<tr>\n",
       "  <th>Model Family:</th>        <td>Binomial</td>     <th>  Df Model:          </th>  <td>    46</td> \n",
       "</tr>\n",
       "<tr>\n",
       "  <th>Link Function:</th>         <td>Logit</td>      <th>  Scale:             </th> <td>  1.0000</td>\n",
       "</tr>\n",
       "<tr>\n",
       "  <th>Method:</th>                <td>IRLS</td>       <th>  Log-Likelihood:    </th> <td> -1401.9</td>\n",
       "</tr>\n",
       "<tr>\n",
       "  <th>Date:</th>            <td>Mon, 23 Jan 2023</td> <th>  Deviance:          </th> <td>  2803.8</td>\n",
       "</tr>\n",
       "<tr>\n",
       "  <th>Time:</th>                <td>11:47:33</td>     <th>  Pearson chi2:      </th> <td>7.75e+03</td>\n",
       "</tr>\n",
       "<tr>\n",
       "  <th>No. Iterations:</th>         <td>20</td>        <th>  Pseudo R-squ. (CS):</th>  <td>0.5889</td> \n",
       "</tr>\n",
       "<tr>\n",
       "  <th>Covariance Type:</th>     <td>nonrobust</td>    <th>                     </th>     <td> </td>   \n",
       "</tr>\n",
       "</table>\n",
       "<table class=\"simpletable\">\n",
       "<tr>\n",
       "                          <td></td>                            <th>coef</th>     <th>std err</th>      <th>z</th>      <th>P>|z|</th>  <th>[0.025</th>    <th>0.975]</th>  \n",
       "</tr>\n",
       "<tr>\n",
       "  <th>const</th>                                            <td>   21.3615</td> <td> 2.92e+04</td> <td>    0.001</td> <td> 0.999</td> <td>-5.73e+04</td> <td> 5.73e+04</td>\n",
       "</tr>\n",
       "<tr>\n",
       "  <th>Do Not Email</th>                                     <td>   -1.2419</td> <td>    0.259</td> <td>   -4.788</td> <td> 0.000</td> <td>   -1.750</td> <td>   -0.734</td>\n",
       "</tr>\n",
       "<tr>\n",
       "  <th>TotalVisits</th>                                      <td>    0.2459</td> <td>    0.074</td> <td>    3.317</td> <td> 0.001</td> <td>    0.101</td> <td>    0.391</td>\n",
       "</tr>\n",
       "<tr>\n",
       "  <th>Total Time Spent on Website</th>                      <td>    1.0836</td> <td>    0.057</td> <td>   18.947</td> <td> 0.000</td> <td>    0.972</td> <td>    1.196</td>\n",
       "</tr>\n",
       "<tr>\n",
       "  <th>Page Views Per Visit</th>                             <td>   -0.3118</td> <td>    0.085</td> <td>   -3.654</td> <td> 0.000</td> <td>   -0.479</td> <td>   -0.145</td>\n",
       "</tr>\n",
       "<tr>\n",
       "  <th>A free copy of Mastering The Interview</th>           <td>   -0.0511</td> <td>    0.159</td> <td>   -0.321</td> <td> 0.748</td> <td>   -0.363</td> <td>    0.261</td>\n",
       "</tr>\n",
       "<tr>\n",
       "  <th>Lead_Origin_API</th>                                  <td>  -20.4355</td> <td> 2.92e+04</td> <td>   -0.001</td> <td> 0.999</td> <td>-5.73e+04</td> <td> 5.73e+04</td>\n",
       "</tr>\n",
       "<tr>\n",
       "  <th>Lead_Origin_Landing Page Submission</th>              <td>  -20.6439</td> <td> 2.92e+04</td> <td>   -0.001</td> <td> 0.999</td> <td>-5.73e+04</td> <td> 5.73e+04</td>\n",
       "</tr>\n",
       "<tr>\n",
       "  <th>Lead_Origin_Lead Add Form</th>                        <td>  -17.5829</td> <td> 2.92e+04</td> <td>   -0.001</td> <td> 1.000</td> <td>-5.73e+04</td> <td> 5.73e+04</td>\n",
       "</tr>\n",
       "<tr>\n",
       "  <th>Lead_Origin_Lead Import</th>                          <td>  -20.8889</td> <td> 2.92e+04</td> <td>   -0.001</td> <td> 0.999</td> <td>-5.73e+04</td> <td> 5.73e+04</td>\n",
       "</tr>\n",
       "<tr>\n",
       "  <th>Lead_Source_Direct Traffic</th>                       <td>   -0.1668</td> <td>    0.427</td> <td>   -0.391</td> <td> 0.696</td> <td>   -1.003</td> <td>    0.670</td>\n",
       "</tr>\n",
       "<tr>\n",
       "  <th>Lead_Source_Google</th>                               <td>   -0.1535</td> <td>    0.410</td> <td>   -0.375</td> <td> 0.708</td> <td>   -0.956</td> <td>    0.649</td>\n",
       "</tr>\n",
       "<tr>\n",
       "  <th>Lead_Source_Olark Chat</th>                           <td>    0.7239</td> <td>    0.430</td> <td>    1.683</td> <td> 0.092</td> <td>   -0.119</td> <td>    1.567</td>\n",
       "</tr>\n",
       "<tr>\n",
       "  <th>Lead_Source_Organic Search</th>                       <td>   -0.5613</td> <td>    0.427</td> <td>   -1.315</td> <td> 0.189</td> <td>   -1.398</td> <td>    0.275</td>\n",
       "</tr>\n",
       "<tr>\n",
       "  <th>Lead_Source_Reference</th>                            <td>   -1.7695</td> <td>    1.091</td> <td>   -1.622</td> <td> 0.105</td> <td>   -3.908</td> <td>    0.369</td>\n",
       "</tr>\n",
       "<tr>\n",
       "  <th>Lead_Source_Welingak Website</th>                     <td>    2.2402</td> <td>    1.451</td> <td>    1.544</td> <td> 0.123</td> <td>   -0.603</td> <td>    5.084</td>\n",
       "</tr>\n",
       "<tr>\n",
       "  <th>Last_Activity_Converted to Lead</th>                  <td>   -0.7332</td> <td>    0.395</td> <td>   -1.856</td> <td> 0.064</td> <td>   -1.508</td> <td>    0.041</td>\n",
       "</tr>\n",
       "<tr>\n",
       "  <th>Last_Activity_Email Bounced</th>                      <td>   -1.3537</td> <td>    0.567</td> <td>   -2.386</td> <td> 0.017</td> <td>   -2.466</td> <td>   -0.242</td>\n",
       "</tr>\n",
       "<tr>\n",
       "  <th>Last_Activity_Email Link Clicked</th>                 <td>   -0.6089</td> <td>    0.427</td> <td>   -1.425</td> <td> 0.154</td> <td>   -1.446</td> <td>    0.228</td>\n",
       "</tr>\n",
       "<tr>\n",
       "  <th>Last_Activity_Email Opened</th>                       <td>    0.0490</td> <td>    0.338</td> <td>    0.145</td> <td> 0.885</td> <td>   -0.613</td> <td>    0.711</td>\n",
       "</tr>\n",
       "<tr>\n",
       "  <th>Last_Activity_Olark Chat Conversation</th>            <td>   -1.2844</td> <td>    0.347</td> <td>   -3.707</td> <td> 0.000</td> <td>   -1.964</td> <td>   -0.605</td>\n",
       "</tr>\n",
       "<tr>\n",
       "  <th>Last_Activity_Page Visited on Website</th>            <td>   -1.0111</td> <td>    0.438</td> <td>   -2.310</td> <td> 0.021</td> <td>   -1.869</td> <td>   -0.153</td>\n",
       "</tr>\n",
       "<tr>\n",
       "  <th>Last_Activity_SMS Sent</th>                           <td>    0.5489</td> <td>    0.331</td> <td>    1.660</td> <td> 0.097</td> <td>   -0.099</td> <td>    1.197</td>\n",
       "</tr>\n",
       "<tr>\n",
       "  <th>Specialization_Banking, Investment And Insurance</th> <td>    0.1490</td> <td>    0.327</td> <td>    0.456</td> <td> 0.649</td> <td>   -0.492</td> <td>    0.790</td>\n",
       "</tr>\n",
       "<tr>\n",
       "  <th>Specialization_Business Administration</th>           <td>    0.0472</td> <td>    0.300</td> <td>    0.157</td> <td> 0.875</td> <td>   -0.542</td> <td>    0.636</td>\n",
       "</tr>\n",
       "<tr>\n",
       "  <th>Specialization_Business Specializations</th>          <td>    0.0367</td> <td>    0.329</td> <td>    0.112</td> <td> 0.911</td> <td>   -0.607</td> <td>    0.681</td>\n",
       "</tr>\n",
       "<tr>\n",
       "  <th>Specialization_E-COMMERCE</th>                        <td>    0.7387</td> <td>    0.476</td> <td>    1.550</td> <td> 0.121</td> <td>   -0.195</td> <td>    1.672</td>\n",
       "</tr>\n",
       "<tr>\n",
       "  <th>Specialization_Management Specializations</th>        <td>    0.0513</td> <td>    0.203</td> <td>    0.252</td> <td> 0.801</td> <td>   -0.348</td> <td>    0.450</td>\n",
       "</tr>\n",
       "<tr>\n",
       "  <th>Specialization_Media and Advertising</th>             <td>   -0.0145</td> <td>    0.399</td> <td>   -0.036</td> <td> 0.971</td> <td>   -0.797</td> <td>    0.768</td>\n",
       "</tr>\n",
       "<tr>\n",
       "  <th>Specialization_Services Excellence</th>               <td>   -0.3367</td> <td>    0.774</td> <td>   -0.435</td> <td> 0.664</td> <td>   -1.854</td> <td>    1.180</td>\n",
       "</tr>\n",
       "<tr>\n",
       "  <th>Specialization_Travel and Tourism</th>                <td>   -0.7102</td> <td>    0.456</td> <td>   -1.557</td> <td> 0.119</td> <td>   -1.604</td> <td>    0.184</td>\n",
       "</tr>\n",
       "<tr>\n",
       "  <th>Occupation_Not Specified</th>                         <td>   -2.5001</td> <td>    0.859</td> <td>   -2.910</td> <td> 0.004</td> <td>   -4.184</td> <td>   -0.816</td>\n",
       "</tr>\n",
       "<tr>\n",
       "  <th>Occupation_Student</th>                               <td>   -0.5583</td> <td>    0.966</td> <td>   -0.578</td> <td> 0.563</td> <td>   -2.451</td> <td>    1.334</td>\n",
       "</tr>\n",
       "<tr>\n",
       "  <th>Occupation_Unemployed</th>                            <td>   -0.7819</td> <td>    0.852</td> <td>   -0.917</td> <td> 0.359</td> <td>   -2.453</td> <td>    0.889</td>\n",
       "</tr>\n",
       "<tr>\n",
       "  <th>Occupation_Working Professional</th>                  <td>   -0.0519</td> <td>    0.894</td> <td>   -0.058</td> <td> 0.954</td> <td>   -1.805</td> <td>    1.701</td>\n",
       "</tr>\n",
       "<tr>\n",
       "  <th>Tags_Already a student</th>                           <td>   -4.4259</td> <td>    0.618</td> <td>   -7.167</td> <td> 0.000</td> <td>   -5.636</td> <td>   -3.215</td>\n",
       "</tr>\n",
       "<tr>\n",
       "  <th>Tags_Closed by Horizzon</th>                          <td>    4.7296</td> <td>    0.748</td> <td>    6.322</td> <td> 0.000</td> <td>    3.263</td> <td>    6.196</td>\n",
       "</tr>\n",
       "<tr>\n",
       "  <th>Tags_Interested in Next batch</th>                    <td>   19.6369</td> <td> 1.57e+04</td> <td>    0.001</td> <td> 0.999</td> <td>-3.07e+04</td> <td> 3.07e+04</td>\n",
       "</tr>\n",
       "<tr>\n",
       "  <th>Tags_Interested in other courses</th>                 <td>   -3.6058</td> <td>    0.427</td> <td>   -8.439</td> <td> 0.000</td> <td>   -4.443</td> <td>   -2.768</td>\n",
       "</tr>\n",
       "<tr>\n",
       "  <th>Tags_Other Tags</th>                                  <td>   -1.0723</td> <td>    0.160</td> <td>   -6.689</td> <td> 0.000</td> <td>   -1.387</td> <td>   -0.758</td>\n",
       "</tr>\n",
       "<tr>\n",
       "  <th>Tags_Ringing</th>                                     <td>   -4.2286</td> <td>    0.257</td> <td>  -16.439</td> <td> 0.000</td> <td>   -4.733</td> <td>   -3.724</td>\n",
       "</tr>\n",
       "<tr>\n",
       "  <th>Tags_Still Thinking</th>                              <td>   -1.5255</td> <td>    1.475</td> <td>   -1.035</td> <td> 0.301</td> <td>   -4.416</td> <td>    1.365</td>\n",
       "</tr>\n",
       "<tr>\n",
       "  <th>Tags_Will revert after reading the email</th>         <td>    2.8850</td> <td>    0.210</td> <td>   13.762</td> <td> 0.000</td> <td>    2.474</td> <td>    3.296</td>\n",
       "</tr>\n",
       "<tr>\n",
       "  <th>Last_Notable_Activity_Email Opened</th>               <td>   -0.3341</td> <td>    0.355</td> <td>   -0.940</td> <td> 0.347</td> <td>   -1.030</td> <td>    0.362</td>\n",
       "</tr>\n",
       "<tr>\n",
       "  <th>Last_Notable_Activity_Modified</th>                   <td>   -0.4771</td> <td>    0.295</td> <td>   -1.618</td> <td> 0.106</td> <td>   -1.055</td> <td>    0.101</td>\n",
       "</tr>\n",
       "<tr>\n",
       "  <th>Last_Notable_Activity_Page Visited on Website</th>    <td>    0.3667</td> <td>    0.525</td> <td>    0.698</td> <td> 0.485</td> <td>   -0.663</td> <td>    1.396</td>\n",
       "</tr>\n",
       "<tr>\n",
       "  <th>Last_Notable_Activity_SMS Sent</th>                   <td>    0.9501</td> <td>    0.355</td> <td>    2.676</td> <td> 0.007</td> <td>    0.254</td> <td>    1.646</td>\n",
       "</tr>\n",
       "</table>"
      ],
      "text/plain": [
       "<class 'statsmodels.iolib.summary.Summary'>\n",
       "\"\"\"\n",
       "                 Generalized Linear Model Regression Results                  \n",
       "==============================================================================\n",
       "Dep. Variable:              Converted   No. Observations:                 6363\n",
       "Model:                            GLM   Df Residuals:                     6316\n",
       "Model Family:                Binomial   Df Model:                           46\n",
       "Link Function:                  Logit   Scale:                          1.0000\n",
       "Method:                          IRLS   Log-Likelihood:                -1401.9\n",
       "Date:                Mon, 23 Jan 2023   Deviance:                       2803.8\n",
       "Time:                        11:47:33   Pearson chi2:                 7.75e+03\n",
       "No. Iterations:                    20   Pseudo R-squ. (CS):             0.5889\n",
       "Covariance Type:            nonrobust                                         \n",
       "====================================================================================================================\n",
       "                                                       coef    std err          z      P>|z|      [0.025      0.975]\n",
       "--------------------------------------------------------------------------------------------------------------------\n",
       "const                                               21.3615   2.92e+04      0.001      0.999   -5.73e+04    5.73e+04\n",
       "Do Not Email                                        -1.2419      0.259     -4.788      0.000      -1.750      -0.734\n",
       "TotalVisits                                          0.2459      0.074      3.317      0.001       0.101       0.391\n",
       "Total Time Spent on Website                          1.0836      0.057     18.947      0.000       0.972       1.196\n",
       "Page Views Per Visit                                -0.3118      0.085     -3.654      0.000      -0.479      -0.145\n",
       "A free copy of Mastering The Interview              -0.0511      0.159     -0.321      0.748      -0.363       0.261\n",
       "Lead_Origin_API                                    -20.4355   2.92e+04     -0.001      0.999   -5.73e+04    5.73e+04\n",
       "Lead_Origin_Landing Page Submission                -20.6439   2.92e+04     -0.001      0.999   -5.73e+04    5.73e+04\n",
       "Lead_Origin_Lead Add Form                          -17.5829   2.92e+04     -0.001      1.000   -5.73e+04    5.73e+04\n",
       "Lead_Origin_Lead Import                            -20.8889   2.92e+04     -0.001      0.999   -5.73e+04    5.73e+04\n",
       "Lead_Source_Direct Traffic                          -0.1668      0.427     -0.391      0.696      -1.003       0.670\n",
       "Lead_Source_Google                                  -0.1535      0.410     -0.375      0.708      -0.956       0.649\n",
       "Lead_Source_Olark Chat                               0.7239      0.430      1.683      0.092      -0.119       1.567\n",
       "Lead_Source_Organic Search                          -0.5613      0.427     -1.315      0.189      -1.398       0.275\n",
       "Lead_Source_Reference                               -1.7695      1.091     -1.622      0.105      -3.908       0.369\n",
       "Lead_Source_Welingak Website                         2.2402      1.451      1.544      0.123      -0.603       5.084\n",
       "Last_Activity_Converted to Lead                     -0.7332      0.395     -1.856      0.064      -1.508       0.041\n",
       "Last_Activity_Email Bounced                         -1.3537      0.567     -2.386      0.017      -2.466      -0.242\n",
       "Last_Activity_Email Link Clicked                    -0.6089      0.427     -1.425      0.154      -1.446       0.228\n",
       "Last_Activity_Email Opened                           0.0490      0.338      0.145      0.885      -0.613       0.711\n",
       "Last_Activity_Olark Chat Conversation               -1.2844      0.347     -3.707      0.000      -1.964      -0.605\n",
       "Last_Activity_Page Visited on Website               -1.0111      0.438     -2.310      0.021      -1.869      -0.153\n",
       "Last_Activity_SMS Sent                               0.5489      0.331      1.660      0.097      -0.099       1.197\n",
       "Specialization_Banking, Investment And Insurance     0.1490      0.327      0.456      0.649      -0.492       0.790\n",
       "Specialization_Business Administration               0.0472      0.300      0.157      0.875      -0.542       0.636\n",
       "Specialization_Business Specializations              0.0367      0.329      0.112      0.911      -0.607       0.681\n",
       "Specialization_E-COMMERCE                            0.7387      0.476      1.550      0.121      -0.195       1.672\n",
       "Specialization_Management Specializations            0.0513      0.203      0.252      0.801      -0.348       0.450\n",
       "Specialization_Media and Advertising                -0.0145      0.399     -0.036      0.971      -0.797       0.768\n",
       "Specialization_Services Excellence                  -0.3367      0.774     -0.435      0.664      -1.854       1.180\n",
       "Specialization_Travel and Tourism                   -0.7102      0.456     -1.557      0.119      -1.604       0.184\n",
       "Occupation_Not Specified                            -2.5001      0.859     -2.910      0.004      -4.184      -0.816\n",
       "Occupation_Student                                  -0.5583      0.966     -0.578      0.563      -2.451       1.334\n",
       "Occupation_Unemployed                               -0.7819      0.852     -0.917      0.359      -2.453       0.889\n",
       "Occupation_Working Professional                     -0.0519      0.894     -0.058      0.954      -1.805       1.701\n",
       "Tags_Already a student                              -4.4259      0.618     -7.167      0.000      -5.636      -3.215\n",
       "Tags_Closed by Horizzon                              4.7296      0.748      6.322      0.000       3.263       6.196\n",
       "Tags_Interested in Next batch                       19.6369   1.57e+04      0.001      0.999   -3.07e+04    3.07e+04\n",
       "Tags_Interested in other courses                    -3.6058      0.427     -8.439      0.000      -4.443      -2.768\n",
       "Tags_Other Tags                                     -1.0723      0.160     -6.689      0.000      -1.387      -0.758\n",
       "Tags_Ringing                                        -4.2286      0.257    -16.439      0.000      -4.733      -3.724\n",
       "Tags_Still Thinking                                 -1.5255      1.475     -1.035      0.301      -4.416       1.365\n",
       "Tags_Will revert after reading the email             2.8850      0.210     13.762      0.000       2.474       3.296\n",
       "Last_Notable_Activity_Email Opened                  -0.3341      0.355     -0.940      0.347      -1.030       0.362\n",
       "Last_Notable_Activity_Modified                      -0.4771      0.295     -1.618      0.106      -1.055       0.101\n",
       "Last_Notable_Activity_Page Visited on Website        0.3667      0.525      0.698      0.485      -0.663       1.396\n",
       "Last_Notable_Activity_SMS Sent                       0.9501      0.355      2.676      0.007       0.254       1.646\n",
       "====================================================================================================================\n",
       "\"\"\""
      ]
     },
     "execution_count": 90,
     "metadata": {},
     "output_type": "execute_result"
    }
   ],
   "source": [
    "# Model 1\n",
    "# Model building using statsmodels\n",
    "\n",
    "# Logistic regression model\n",
    "logm1 = sm.GLM(y_train,(sm.add_constant(X_train)), family = sm.families.Binomial())\n",
    "logm1.fit().summary()"
   ]
  },
  {
   "cell_type": "markdown",
   "id": "passing-basket",
   "metadata": {},
   "source": [
    "### Step 11: Feature Selection Using RFE"
   ]
  },
  {
   "cell_type": "code",
   "execution_count": 92,
   "id": "expensive-morgan",
   "metadata": {},
   "outputs": [
    {
     "ename": "TypeError",
     "evalue": "__init__() takes 2 positional arguments but 3 were given",
     "output_type": "error",
     "traceback": [
      "\u001b[1;31m---------------------------------------------------------------------------\u001b[0m",
      "\u001b[1;31mTypeError\u001b[0m                                 Traceback (most recent call last)",
      "Input \u001b[1;32mIn [92]\u001b[0m, in \u001b[0;36m<cell line: 4>\u001b[1;34m()\u001b[0m\n\u001b[0;32m      1\u001b[0m \u001b[38;5;66;03m# Logistic Regression\u001b[39;00m\n\u001b[0;32m      2\u001b[0m logreg \u001b[38;5;241m=\u001b[39m LogisticRegression()\n\u001b[1;32m----> 4\u001b[0m rfe \u001b[38;5;241m=\u001b[39m \u001b[43mRFE\u001b[49m\u001b[43m(\u001b[49m\u001b[43mlogreg\u001b[49m\u001b[43m,\u001b[49m\u001b[43m \u001b[49m\u001b[38;5;241;43m20\u001b[39;49m\u001b[43m)\u001b[49m             \n\u001b[0;32m      5\u001b[0m rfe \u001b[38;5;241m=\u001b[39m rfe\u001b[38;5;241m.\u001b[39mfit(X_train, y_train)\n",
      "\u001b[1;31mTypeError\u001b[0m: __init__() takes 2 positional arguments but 3 were given"
     ]
    }
   ],
   "source": [
    "# Logistic Regression\n",
    "logreg = LogisticRegression()\n",
    "\n",
    "rfe = RFE(logreg, 20)             \n",
    "rfe = rfe.fit(X_train, y_train)"
   ]
  },
  {
   "cell_type": "code",
   "execution_count": null,
   "id": "owned-atlantic",
   "metadata": {},
   "outputs": [],
   "source": [
    "list(zip(X_train.columns, rfe.support_, rfe.ranking_))"
   ]
  },
  {
   "cell_type": "code",
   "execution_count": null,
   "id": "timely-stamp",
   "metadata": {},
   "outputs": [],
   "source": [
    "# Selected Variables\n",
    "col = X_train.columns[rfe.support_]\n",
    "col"
   ]
  },
  {
   "cell_type": "code",
   "execution_count": null,
   "id": "vital-verification",
   "metadata": {},
   "outputs": [],
   "source": [
    "X_train.columns[~rfe.support_]"
   ]
  },
  {
   "cell_type": "markdown",
   "id": "genetic-jumping",
   "metadata": {},
   "source": [
    "#### Second Model\n",
    "##### Accessing the model with statsmodels"
   ]
  },
  {
   "cell_type": "code",
   "execution_count": null,
   "id": "exact-novel",
   "metadata": {},
   "outputs": [],
   "source": [
    "# Model 2\n",
    "X_train_sm = sm.add_constant(X_train[col])\n",
    "\n",
    "logm2 = sm.GLM(y_train, X_train_sm, family= sm.families.Binomial())\n",
    "res = logm2.fit()\n",
    "res.summary()"
   ]
  },
  {
   "cell_type": "code",
   "execution_count": null,
   "id": "polyphonic-soccer",
   "metadata": {},
   "outputs": [],
   "source": [
    "# Dropping the variables with p-values greater than 0.05\n",
    "col = col.drop(['Lead_Source_Reference', 'Lead_Source_Welingak Website'])\n",
    "col"
   ]
  },
  {
   "cell_type": "markdown",
   "id": "living-constitution",
   "metadata": {},
   "source": [
    "#### Third Model"
   ]
  },
  {
   "cell_type": "code",
   "execution_count": null,
   "id": "tamil-village",
   "metadata": {},
   "outputs": [],
   "source": [
    "# Model 3\n",
    "X_train_sm = sm.add_constant(X_train[col])\n",
    "\n",
    "logm3 = sm.GLM(y_train, X_train_sm, family= sm.families.Binomial())\n",
    "res = logm3.fit()\n",
    "res.summary()"
   ]
  },
  {
   "cell_type": "markdown",
   "id": "recovered-investment",
   "metadata": {},
   "source": [
    "##### Checking VIFs"
   ]
  },
  {
   "cell_type": "code",
   "execution_count": null,
   "id": "scheduled-terry",
   "metadata": {},
   "outputs": [],
   "source": [
    "# Create a dataframe that will contain the names of all the feature variables and their respective VIFs\n",
    "vif = pd.DataFrame()\n",
    "vif['Features'] = X_train[col].columns\n",
    "vif['VIF'] = [variance_inflation_factor(X_train[col].values, i) for i in range(X_train[col].shape[1])]\n",
    "vif['VIF'] = round(vif['VIF'], 2)\n",
    "vif = vif.sort_values(by = \"VIF\", ascending = False)\n",
    "vif"
   ]
  },
  {
   "cell_type": "code",
   "execution_count": null,
   "id": "operating-learning",
   "metadata": {},
   "outputs": [],
   "source": [
    "# Predictions on the train set\n",
    "y_train_pred = res.predict(X_train_sm).values.reshape(-1)\n",
    "y_train_pred"
   ]
  },
  {
   "cell_type": "markdown",
   "id": "improving-breast",
   "metadata": {},
   "source": [
    "##### Creating the DataFrame with Actual Converted and Predicted Probabilities"
   ]
  },
  {
   "cell_type": "code",
   "execution_count": null,
   "id": "received-weekly",
   "metadata": {},
   "outputs": [],
   "source": [
    "y_train_pred_final = pd.DataFrame({'Converted': y_train.values, 'Converted_Prob': y_train_pred})\n",
    "y_train_pred_final['Prospect ID'] = y_train.index\n",
    "y_train_pred_final.head()"
   ]
  },
  {
   "cell_type": "markdown",
   "id": "turned-camping",
   "metadata": {},
   "source": [
    "##### Creating a new column Predicted with 1 if Probability > 0.5"
   ]
  },
  {
   "cell_type": "code",
   "execution_count": null,
   "id": "desperate-certification",
   "metadata": {},
   "outputs": [],
   "source": [
    "# Making a new column Predicted with values which have Probability greater than 0.5\n",
    "y_train_pred_final['Predicted'] = y_train_pred_final.Converted_Prob.map(lambda x: 1 if x > 0.5 else 0)\n",
    "y_train_pred_final.head()"
   ]
  },
  {
   "cell_type": "code",
   "execution_count": null,
   "id": "related-trustee",
   "metadata": {},
   "outputs": [],
   "source": [
    "# Let's check the overall accuracy.\n",
    "print(metrics.accuracy_score(y_true= y_train_pred_final.Converted, y_pred= y_train_pred_final.Predicted))"
   ]
  },
  {
   "cell_type": "code",
   "execution_count": null,
   "id": "understanding-hebrew",
   "metadata": {},
   "outputs": [],
   "source": [
    "# Let's take a look at the confusion matrix again \n",
    "confusion = metrics.confusion_matrix(y_true= y_train_pred_final.Converted, y_pred= y_train_pred_final.Predicted)\n",
    "confusion"
   ]
  },
  {
   "cell_type": "code",
   "execution_count": null,
   "id": "protecting-recall",
   "metadata": {},
   "outputs": [],
   "source": [
    "# Actual/Predicted     Not_Converted    Converted\n",
    "    # Not_Converted        3757            178\n",
    "    # Converted            380             2048  "
   ]
  },
  {
   "cell_type": "markdown",
   "id": "consolidated-director",
   "metadata": {},
   "source": [
    "##### Metrics beyond Simple Accuracy"
   ]
  },
  {
   "cell_type": "code",
   "execution_count": null,
   "id": "united-silly",
   "metadata": {},
   "outputs": [],
   "source": [
    "TP = confusion[1,1] # true positive \n",
    "TN = confusion[0,0] # true negatives\n",
    "FP = confusion[0,1] # false positives\n",
    "FN = confusion[1,0] # false negatives"
   ]
  },
  {
   "cell_type": "code",
   "execution_count": null,
   "id": "forward-richmond",
   "metadata": {},
   "outputs": [],
   "source": [
    "# Let's see the sensitivity of our logistic regression model\n",
    "TP / float(TP+FN)"
   ]
  },
  {
   "cell_type": "code",
   "execution_count": null,
   "id": "deadly-valentine",
   "metadata": {},
   "outputs": [],
   "source": [
    "# Let us calculate specificity\n",
    "TN / float(TN+FP)"
   ]
  },
  {
   "cell_type": "code",
   "execution_count": null,
   "id": "empty-lobby",
   "metadata": {},
   "outputs": [],
   "source": [
    "# Calculate false postive rate - predicting churn when customer does not have churned\n",
    "print(FP/ float(TN+FP))"
   ]
  },
  {
   "cell_type": "code",
   "execution_count": null,
   "id": "amber-wrestling",
   "metadata": {},
   "outputs": [],
   "source": [
    "# positive predictive value \n",
    "print (TP / float(TP+FP))"
   ]
  },
  {
   "cell_type": "code",
   "execution_count": null,
   "id": "cloudy-humanitarian",
   "metadata": {},
   "outputs": [],
   "source": [
    "# Negative predictive value\n",
    "print (TN / float(TN+ FN))"
   ]
  },
  {
   "cell_type": "markdown",
   "id": "blank-testimony",
   "metadata": {},
   "source": [
    "### Step 12: Plotting the ROC Curve"
   ]
  },
  {
   "cell_type": "code",
   "execution_count": null,
   "id": "ambient-parallel",
   "metadata": {},
   "outputs": [],
   "source": [
    "def draw_roc( actual, probs ):\n",
    "    fpr, tpr, thresholds = metrics.roc_curve( actual, probs,\n",
    "                                              drop_intermediate = False )\n",
    "    auc_score = metrics.roc_auc_score( actual, probs )\n",
    "    plt.figure(figsize=(5, 5))\n",
    "    plt.plot( fpr, tpr, label='ROC curve (area = %0.2f)' % auc_score )\n",
    "    plt.plot([0, 1], [0, 1], 'k--')\n",
    "    plt.xlim([0.0, 1.0])\n",
    "    plt.ylim([0.0, 1.05])\n",
    "    plt.xlabel('False Positive Rate or [1 - True Negative Rate]')\n",
    "    plt.ylabel('True Positive Rate')\n",
    "    plt.title('Receiver Operating Characteristic Curve')\n",
    "    plt.legend(loc=\"lower right\")\n",
    "    plt.show()\n",
    "\n",
    "    return None"
   ]
  },
  {
   "cell_type": "code",
   "execution_count": null,
   "id": "cooked-being",
   "metadata": {},
   "outputs": [],
   "source": [
    "fpr, tpr, thresholds = metrics.roc_curve(y_train_pred_final.Converted, y_train_pred_final.Converted_Prob,\n",
    "                                         drop_intermediate = False)"
   ]
  },
  {
   "cell_type": "code",
   "execution_count": null,
   "id": "excellent-immigration",
   "metadata": {},
   "outputs": [],
   "source": [
    "draw_roc(y_train_pred_final.Converted, y_train_pred_final.Converted_Prob)"
   ]
  },
  {
   "cell_type": "markdown",
   "id": "adjusted-assignment",
   "metadata": {},
   "source": [
    "### Step 13: Finding Optimal Cut-off Points"
   ]
  },
  {
   "cell_type": "markdown",
   "id": "northern-indiana",
   "metadata": {},
   "source": [
    "Optimal cutoff probability is that probability where we get balanced sensitivity and specificity."
   ]
  },
  {
   "cell_type": "code",
   "execution_count": null,
   "id": "straight-apparatus",
   "metadata": {},
   "outputs": [],
   "source": [
    "# Let's create columns with different probability cutoffs \n",
    "numbers = [float(x)/10 for x in range(10)]\n",
    "for i in numbers:\n",
    "    y_train_pred_final[i]= y_train_pred_final.Converted_Prob.map(lambda x: 1 if x > i else 0)\n",
    "y_train_pred_final.head()"
   ]
  },
  {
   "cell_type": "code",
   "execution_count": null,
   "id": "foreign-parent",
   "metadata": {},
   "outputs": [],
   "source": [
    "# Now let's calculate accuracy sensitivity and specificity for various probability cutoffs.\n",
    "cutoff_df = pd.DataFrame( columns = ['prob','accuracy','sensitivity','specificity'])\n",
    "from sklearn.metrics import confusion_matrix\n",
    "\n",
    "# TP = confusion[1,1] # true positive \n",
    "# TN = confusion[0,0] # true negatives\n",
    "# FP = confusion[0,1] # false positives\n",
    "# FN = confusion[1,0] # false negatives\n",
    "\n",
    "num = [0.0,0.1,0.2,0.3,0.4,0.5,0.6,0.7,0.8,0.9]\n",
    "for i in num:\n",
    "    cm1 = metrics.confusion_matrix(y_train_pred_final.Converted, y_train_pred_final[i] )\n",
    "    total1=sum(sum(cm1))\n",
    "    accuracy = (cm1[0,0]+cm1[1,1])/total1\n",
    "    \n",
    "    speci = cm1[0,0]/(cm1[0,0]+cm1[0,1])\n",
    "    sensi = cm1[1,1]/(cm1[1,0]+cm1[1,1])\n",
    "    cutoff_df.loc[i] =[ i ,accuracy,sensi,speci]\n",
    "print(cutoff_df)"
   ]
  },
  {
   "cell_type": "code",
   "execution_count": null,
   "id": "respiratory-share",
   "metadata": {},
   "outputs": [],
   "source": [
    "# Let's plot accuracy sensitivity and specificity for various probabilities.\n",
    "cutoff_df.plot.line(x='prob', y=['accuracy','sensitivity','specificity'])\n",
    "plt.show()"
   ]
  },
  {
   "cell_type": "markdown",
   "id": "associate-lindsay",
   "metadata": {},
   "source": [
    "##### From the curve above, we can see that 0.3 is our Optimal Point"
   ]
  },
  {
   "cell_type": "code",
   "execution_count": null,
   "id": "functioning-refrigerator",
   "metadata": {},
   "outputs": [],
   "source": [
    "y_train_pred_final['Final_Predicted'] = y_train_pred_final.Converted_Prob.map( lambda x: 1 if x > 0.3 else 0)\n",
    "\n",
    "y_train_pred_final.head()"
   ]
  },
  {
   "cell_type": "code",
   "execution_count": null,
   "id": "multiple-rating",
   "metadata": {},
   "outputs": [],
   "source": [
    "# Let's check the overall accuracy.\n",
    "print(metrics.accuracy_score(y_true= y_train_pred_final.Converted, y_pred= y_train_pred_final.Final_Predicted))"
   ]
  },
  {
   "cell_type": "code",
   "execution_count": null,
   "id": "horizontal-electron",
   "metadata": {},
   "outputs": [],
   "source": [
    "# Let's take a look at the confusion matrix again \n",
    "confusion = metrics.confusion_matrix(y_true= y_train_pred_final.Converted, y_pred= y_train_pred_final.Final_Predicted)\n",
    "confusion"
   ]
  },
  {
   "cell_type": "code",
   "execution_count": null,
   "id": "premium-oxford",
   "metadata": {},
   "outputs": [],
   "source": [
    "# Actual/Predicted     Not_Converted    Converted\n",
    "    # Not_Converted        3523            412\n",
    "    # Converted            213             2215  "
   ]
  },
  {
   "cell_type": "markdown",
   "id": "related-dealing",
   "metadata": {},
   "source": [
    "#### Metrics beyond Simple Accuracy with 0.3 as Optimal Cutoff point"
   ]
  },
  {
   "cell_type": "code",
   "execution_count": null,
   "id": "sunrise-sucking",
   "metadata": {},
   "outputs": [],
   "source": [
    "TP = confusion[1,1] # true positive \n",
    "TN = confusion[0,0] # true negatives\n",
    "FP = confusion[0,1] # false positives\n",
    "FN = confusion[1,0] # false negatives"
   ]
  },
  {
   "cell_type": "code",
   "execution_count": null,
   "id": "intimate-internet",
   "metadata": {},
   "outputs": [],
   "source": [
    "# Let's see the sensitivity of our logistic regression model\n",
    "TP / float(TP+FN)"
   ]
  },
  {
   "cell_type": "code",
   "execution_count": null,
   "id": "pressing-testament",
   "metadata": {},
   "outputs": [],
   "source": [
    "# Let us calculate specificity\n",
    "TN / float(TN+FP)"
   ]
  },
  {
   "cell_type": "code",
   "execution_count": null,
   "id": "capable-reservation",
   "metadata": {},
   "outputs": [],
   "source": [
    "# Calculate false postive rate - predicting churn when customer does not have churned\n",
    "print(FP/ float(TN+FP))"
   ]
  },
  {
   "cell_type": "code",
   "execution_count": null,
   "id": "floating-shark",
   "metadata": {},
   "outputs": [],
   "source": [
    "# Positive predictive value \n",
    "print (TP / float(TP+FP))"
   ]
  },
  {
   "cell_type": "code",
   "execution_count": null,
   "id": "painted-attention",
   "metadata": {},
   "outputs": [],
   "source": [
    "# Negative predictive value\n",
    "print (TN / float(TN+ FN))"
   ]
  },
  {
   "cell_type": "markdown",
   "id": "precious-custody",
   "metadata": {},
   "source": [
    "### Step 14: Precision and Recall"
   ]
  },
  {
   "cell_type": "code",
   "execution_count": null,
   "id": "criminal-antigua",
   "metadata": {},
   "outputs": [],
   "source": [
    "# Precision Score\n",
    "precision_score(y_train_pred_final.Converted, y_train_pred_final.Final_Predicted)"
   ]
  },
  {
   "cell_type": "code",
   "execution_count": null,
   "id": "improved-verse",
   "metadata": {},
   "outputs": [],
   "source": [
    "# Recall Score\n",
    "recall_score(y_train_pred_final.Converted, y_train_pred_final.Final_Predicted)"
   ]
  },
  {
   "cell_type": "markdown",
   "id": "daily-header",
   "metadata": {},
   "source": [
    "#### Precision and Recall Tradeoff"
   ]
  },
  {
   "cell_type": "code",
   "execution_count": null,
   "id": "dutch-provision",
   "metadata": {},
   "outputs": [],
   "source": [
    "p, r, thresholds = precision_recall_curve(y_train_pred_final.Converted, y_train_pred_final.Converted_Prob)"
   ]
  },
  {
   "cell_type": "code",
   "execution_count": null,
   "id": "driven-compromise",
   "metadata": {},
   "outputs": [],
   "source": [
    "plt.plot(thresholds, p[:-1], \"g-\")\n",
    "plt.plot(thresholds, r[:-1], \"r-\")\n",
    "plt.show()"
   ]
  },
  {
   "cell_type": "markdown",
   "id": "taken-camera",
   "metadata": {},
   "source": [
    "### Step 15: Making Predictions on the Test Set"
   ]
  },
  {
   "cell_type": "code",
   "execution_count": null,
   "id": "arabic-search",
   "metadata": {},
   "outputs": [],
   "source": [
    "# Scaling the Numerical Variables\n",
    "X_test[num_cols] = scaler.transform(X_test[num_cols])"
   ]
  },
  {
   "cell_type": "code",
   "execution_count": null,
   "id": "revised-syracuse",
   "metadata": {},
   "outputs": [],
   "source": [
    "X_test = X_test[col]\n",
    "X_test.head()"
   ]
  },
  {
   "cell_type": "code",
   "execution_count": null,
   "id": "arabic-credits",
   "metadata": {},
   "outputs": [],
   "source": [
    "X_test_sm = sm.add_constant(X_test)"
   ]
  },
  {
   "cell_type": "code",
   "execution_count": null,
   "id": "temporal-stage",
   "metadata": {},
   "outputs": [],
   "source": [
    "# Predictions on test set\n",
    "y_test_pred = res.predict(X_test_sm)\n",
    "y_test_pred.head()"
   ]
  },
  {
   "cell_type": "code",
   "execution_count": null,
   "id": "proud-logic",
   "metadata": {},
   "outputs": [],
   "source": [
    "# Converting y_pred to a DataFrame\n",
    "y_pred_1 = pd.DataFrame(y_test_pred)\n",
    "y_pred_1.head()"
   ]
  },
  {
   "cell_type": "code",
   "execution_count": null,
   "id": "selected-final",
   "metadata": {},
   "outputs": [],
   "source": [
    "# Converting y_test to DataFrame\n",
    "y_test_df = pd.DataFrame(y_test)"
   ]
  },
  {
   "cell_type": "code",
   "execution_count": null,
   "id": "closing-vietnamese",
   "metadata": {},
   "outputs": [],
   "source": [
    "# Putting 'Prospect ID' to index\n",
    "y_test_df['Prospect ID'] = y_test_df.index"
   ]
  },
  {
   "cell_type": "code",
   "execution_count": null,
   "id": "tutorial-evanescence",
   "metadata": {},
   "outputs": [],
   "source": [
    "# Removing index for both DataFrames to concatenate them side by side\n",
    "y_pred_1.reset_index(drop= True, inplace= True)\n",
    "y_test_df.reset_index(drop= True, inplace= True)"
   ]
  },
  {
   "cell_type": "code",
   "execution_count": null,
   "id": "insured-tulsa",
   "metadata": {},
   "outputs": [],
   "source": [
    "# Concatenating y_test_df and y_pred_1\n",
    "y_pred_final = pd.concat([y_test_df, y_pred_1], axis = 1)\n",
    "y_pred_final.head()"
   ]
  },
  {
   "cell_type": "code",
   "execution_count": null,
   "id": "adolescent-theorem",
   "metadata": {},
   "outputs": [],
   "source": [
    "# Renaming the column\n",
    "y_pred_final = y_pred_final.rename(columns = {0: 'Converted_Prob'})"
   ]
  },
  {
   "cell_type": "code",
   "execution_count": null,
   "id": "7fa1a13c",
   "metadata": {},
   "outputs": [],
   "source": [
    "# Rearranging the columns\n",
    "y_pred_final = y_pred_final[['Prospect ID', 'Converted', 'Converted_Prob']]\n",
    "y_pred_final.head()"
   ]
  },
  {
   "cell_type": "code",
   "execution_count": null,
   "id": "express-single",
   "metadata": {},
   "outputs": [],
   "source": [
    "y_pred_final['Final_Predicted'] = y_pred_final.Converted_Prob.map(lambda x: 1 if x > 0.3 else 0)\n",
    "y_pred_final.head()"
   ]
  },
  {
   "cell_type": "code",
   "execution_count": null,
   "id": "structural-marker",
   "metadata": {},
   "outputs": [],
   "source": [
    "# Overall Accuracy\n",
    "metrics.accuracy_score(y_true= y_pred_final.Converted, y_pred= y_pred_final.Final_Predicted)"
   ]
  },
  {
   "cell_type": "code",
   "execution_count": null,
   "id": "premium-newport",
   "metadata": {},
   "outputs": [],
   "source": [
    "# Confusion Matrix\n",
    "confusion2 = metrics.confusion_matrix(y_true= y_pred_final.Converted, y_pred= y_pred_final.Final_Predicted)\n",
    "confusion2"
   ]
  },
  {
   "cell_type": "code",
   "execution_count": null,
   "id": "appropriate-hygiene",
   "metadata": {},
   "outputs": [],
   "source": [
    "TP = confusion2[1,1]\n",
    "TN = confusion2[0,0]\n",
    "FP = confusion2[0,1]\n",
    "FN = confusion2[1,0]"
   ]
  },
  {
   "cell_type": "code",
   "execution_count": null,
   "id": "homeless-stuart",
   "metadata": {},
   "outputs": [],
   "source": [
    "# Let's see the sensitivity of our logistic regression model\n",
    "TP / float(TP+FN)"
   ]
  },
  {
   "cell_type": "code",
   "execution_count": null,
   "id": "instructional-serve",
   "metadata": {},
   "outputs": [],
   "source": [
    "# Let us calculate specificity\n",
    "TN / float(TN+FP)"
   ]
  },
  {
   "cell_type": "code",
   "execution_count": null,
   "id": "familiar-midnight",
   "metadata": {},
   "outputs": [],
   "source": [
    "# Calculate false postive rate - predicting churn when customer does not have churned\n",
    "print(FP/ float(TN+FP))"
   ]
  },
  {
   "cell_type": "code",
   "execution_count": null,
   "id": "incomplete-immigration",
   "metadata": {},
   "outputs": [],
   "source": [
    "# Positive predictive value \n",
    "print (TP / float(TP+FP))"
   ]
  },
  {
   "cell_type": "code",
   "execution_count": null,
   "id": "orange-classroom",
   "metadata": {},
   "outputs": [],
   "source": [
    "# Negative predictive value\n",
    "print (TN / float(TN+ FN))"
   ]
  },
  {
   "cell_type": "markdown",
   "id": "continuous-watson",
   "metadata": {},
   "source": [
    "## Conclusions:\n",
    "1. Variables found which contribute the most to the model are as follows:\n",
    "    - Tags_Already a student\n",
    "    - Tags_Ringing\n",
    "    - Tags_Closed by Horizzon\n",
    "    - Tags_Interested in other courses\n",
    "    - Lead_Origin_Lead Add Form\n",
    "    - Tags_Will revert after reading the email"
   ]
  },
  {
   "cell_type": "markdown",
   "id": "naval-airfare",
   "metadata": {},
   "source": [
    "### Step 16: Assigning the Lead Score to the data"
   ]
  },
  {
   "cell_type": "code",
   "execution_count": null,
   "id": "higher-collins",
   "metadata": {},
   "outputs": [],
   "source": [
    "leads_score = leads\n",
    "leads_score.head()"
   ]
  },
  {
   "cell_type": "code",
   "execution_count": null,
   "id": "third-farming",
   "metadata": {},
   "outputs": [],
   "source": [
    "# Scaling the numerical variables\n",
    "leads_score[num_cols] = scaler.transform(leads_score[num_cols])"
   ]
  },
  {
   "cell_type": "code",
   "execution_count": null,
   "id": "ethical-recorder",
   "metadata": {},
   "outputs": [],
   "source": [
    "# Removing all the variables which were not in our final model\n",
    "leads_score = leads_score[col]\n",
    "leads_score = sm.add_constant(leads_score)\n",
    "leads_score.head()"
   ]
  },
  {
   "cell_type": "code",
   "execution_count": null,
   "id": "nominated-daniel",
   "metadata": {},
   "outputs": [],
   "source": [
    "# Making predictions\n",
    "leads_score_pred = res.predict(leads_score)\n",
    "leads_score_pred.head()"
   ]
  },
  {
   "cell_type": "code",
   "execution_count": null,
   "id": "sophisticated-metadata",
   "metadata": {},
   "outputs": [],
   "source": [
    "leads_score['Lead Score'] = round(leads_score_pred*100)\n",
    "leads_score.head()"
   ]
  },
  {
   "cell_type": "code",
   "execution_count": null,
   "id": "spanish-proxy",
   "metadata": {},
   "outputs": [],
   "source": [
    "# Adding Lead Number to see which Lead has scored how much\n",
    "leads_score['Lead Number'] = Lead_Number\n",
    "leads_score.head()"
   ]
  },
  {
   "cell_type": "code",
   "execution_count": null,
   "id": "studied-failing",
   "metadata": {},
   "outputs": [],
   "source": [
    "# Plotting Boxplot to check the distribution for the Lead Scores calculated\n",
    "sns.boxplot(y = leads_score['Lead Score'])\n",
    "plt.show()"
   ]
  },
  {
   "cell_type": "code",
   "execution_count": null,
   "id": "04dcd65f",
   "metadata": {},
   "outputs": [],
   "source": []
  },
  {
   "cell_type": "code",
   "execution_count": null,
   "id": "04d9fa27",
   "metadata": {},
   "outputs": [],
   "source": []
  },
  {
   "cell_type": "code",
   "execution_count": null,
   "id": "62fac248",
   "metadata": {},
   "outputs": [],
   "source": []
  }
 ],
 "metadata": {
  "kernelspec": {
   "display_name": "Python 3 (ipykernel)",
   "language": "python",
   "name": "python3"
  },
  "language_info": {
   "codemirror_mode": {
    "name": "ipython",
    "version": 3
   },
   "file_extension": ".py",
   "mimetype": "text/x-python",
   "name": "python",
   "nbconvert_exporter": "python",
   "pygments_lexer": "ipython3",
   "version": "3.9.12"
  }
 },
 "nbformat": 4,
 "nbformat_minor": 5
}
